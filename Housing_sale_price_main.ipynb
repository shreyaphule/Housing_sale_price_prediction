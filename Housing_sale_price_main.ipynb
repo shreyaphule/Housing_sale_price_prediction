{
 "cells": [
  {
   "cell_type": "code",
   "execution_count": 1,
   "id": "9b39b2bf",
   "metadata": {},
   "outputs": [],
   "source": [
    "import numpy as np\n",
    "import pandas as pd\n",
    "import matplotlib.pyplot as plt\n",
    "import seaborn as sns\n",
    "import warnings\n",
    "warnings.filterwarnings(\"ignore\")\n",
    "from sklearn.preprocessing import LabelEncoder\n",
    "le=LabelEncoder()"
   ]
  },
  {
   "cell_type": "code",
   "execution_count": 2,
   "id": "163a5eaf",
   "metadata": {},
   "outputs": [
    {
     "data": {
      "text/html": [
       "<div>\n",
       "<style scoped>\n",
       "    .dataframe tbody tr th:only-of-type {\n",
       "        vertical-align: middle;\n",
       "    }\n",
       "\n",
       "    .dataframe tbody tr th {\n",
       "        vertical-align: top;\n",
       "    }\n",
       "\n",
       "    .dataframe thead th {\n",
       "        text-align: right;\n",
       "    }\n",
       "</style>\n",
       "<table border=\"1\" class=\"dataframe\">\n",
       "  <thead>\n",
       "    <tr style=\"text-align: right;\">\n",
       "      <th></th>\n",
       "      <th>Id</th>\n",
       "      <th>Building_Class</th>\n",
       "      <th>Zoning_Class</th>\n",
       "      <th>Lot_Extent</th>\n",
       "      <th>Lot_Size</th>\n",
       "      <th>Road_Type</th>\n",
       "      <th>Lane_Type</th>\n",
       "      <th>Property_Shape</th>\n",
       "      <th>Land_Outline</th>\n",
       "      <th>Utility_Type</th>\n",
       "      <th>...</th>\n",
       "      <th>Pool_Area</th>\n",
       "      <th>Pool_Quality</th>\n",
       "      <th>Fence_Quality</th>\n",
       "      <th>Miscellaneous_Feature</th>\n",
       "      <th>Miscellaneous_Value</th>\n",
       "      <th>Month_Sold</th>\n",
       "      <th>Year_Sold</th>\n",
       "      <th>Sale_Type</th>\n",
       "      <th>Sale_Condition</th>\n",
       "      <th>Sale_Price</th>\n",
       "    </tr>\n",
       "  </thead>\n",
       "  <tbody>\n",
       "    <tr>\n",
       "      <th>0</th>\n",
       "      <td>1</td>\n",
       "      <td>60</td>\n",
       "      <td>RLD</td>\n",
       "      <td>65.0</td>\n",
       "      <td>8450</td>\n",
       "      <td>Paved</td>\n",
       "      <td>NaN</td>\n",
       "      <td>Reg</td>\n",
       "      <td>Lvl</td>\n",
       "      <td>AllPub</td>\n",
       "      <td>...</td>\n",
       "      <td>0</td>\n",
       "      <td>NaN</td>\n",
       "      <td>NaN</td>\n",
       "      <td>NaN</td>\n",
       "      <td>0</td>\n",
       "      <td>2</td>\n",
       "      <td>2008</td>\n",
       "      <td>WD</td>\n",
       "      <td>Normal</td>\n",
       "      <td>208500</td>\n",
       "    </tr>\n",
       "    <tr>\n",
       "      <th>1</th>\n",
       "      <td>2</td>\n",
       "      <td>20</td>\n",
       "      <td>RLD</td>\n",
       "      <td>80.0</td>\n",
       "      <td>9600</td>\n",
       "      <td>Paved</td>\n",
       "      <td>NaN</td>\n",
       "      <td>Reg</td>\n",
       "      <td>Lvl</td>\n",
       "      <td>AllPub</td>\n",
       "      <td>...</td>\n",
       "      <td>0</td>\n",
       "      <td>NaN</td>\n",
       "      <td>NaN</td>\n",
       "      <td>NaN</td>\n",
       "      <td>0</td>\n",
       "      <td>5</td>\n",
       "      <td>2007</td>\n",
       "      <td>WD</td>\n",
       "      <td>Normal</td>\n",
       "      <td>181500</td>\n",
       "    </tr>\n",
       "    <tr>\n",
       "      <th>2</th>\n",
       "      <td>3</td>\n",
       "      <td>60</td>\n",
       "      <td>RLD</td>\n",
       "      <td>68.0</td>\n",
       "      <td>11250</td>\n",
       "      <td>Paved</td>\n",
       "      <td>NaN</td>\n",
       "      <td>IR1</td>\n",
       "      <td>Lvl</td>\n",
       "      <td>AllPub</td>\n",
       "      <td>...</td>\n",
       "      <td>0</td>\n",
       "      <td>NaN</td>\n",
       "      <td>NaN</td>\n",
       "      <td>NaN</td>\n",
       "      <td>0</td>\n",
       "      <td>9</td>\n",
       "      <td>2008</td>\n",
       "      <td>WD</td>\n",
       "      <td>Normal</td>\n",
       "      <td>223500</td>\n",
       "    </tr>\n",
       "    <tr>\n",
       "      <th>3</th>\n",
       "      <td>4</td>\n",
       "      <td>70</td>\n",
       "      <td>RLD</td>\n",
       "      <td>60.0</td>\n",
       "      <td>9550</td>\n",
       "      <td>Paved</td>\n",
       "      <td>NaN</td>\n",
       "      <td>IR1</td>\n",
       "      <td>Lvl</td>\n",
       "      <td>AllPub</td>\n",
       "      <td>...</td>\n",
       "      <td>0</td>\n",
       "      <td>NaN</td>\n",
       "      <td>NaN</td>\n",
       "      <td>NaN</td>\n",
       "      <td>0</td>\n",
       "      <td>2</td>\n",
       "      <td>2006</td>\n",
       "      <td>WD</td>\n",
       "      <td>Abnorml</td>\n",
       "      <td>140000</td>\n",
       "    </tr>\n",
       "    <tr>\n",
       "      <th>4</th>\n",
       "      <td>5</td>\n",
       "      <td>60</td>\n",
       "      <td>RLD</td>\n",
       "      <td>84.0</td>\n",
       "      <td>14260</td>\n",
       "      <td>Paved</td>\n",
       "      <td>NaN</td>\n",
       "      <td>IR1</td>\n",
       "      <td>Lvl</td>\n",
       "      <td>AllPub</td>\n",
       "      <td>...</td>\n",
       "      <td>0</td>\n",
       "      <td>NaN</td>\n",
       "      <td>NaN</td>\n",
       "      <td>NaN</td>\n",
       "      <td>0</td>\n",
       "      <td>12</td>\n",
       "      <td>2008</td>\n",
       "      <td>WD</td>\n",
       "      <td>Normal</td>\n",
       "      <td>250000</td>\n",
       "    </tr>\n",
       "    <tr>\n",
       "      <th>...</th>\n",
       "      <td>...</td>\n",
       "      <td>...</td>\n",
       "      <td>...</td>\n",
       "      <td>...</td>\n",
       "      <td>...</td>\n",
       "      <td>...</td>\n",
       "      <td>...</td>\n",
       "      <td>...</td>\n",
       "      <td>...</td>\n",
       "      <td>...</td>\n",
       "      <td>...</td>\n",
       "      <td>...</td>\n",
       "      <td>...</td>\n",
       "      <td>...</td>\n",
       "      <td>...</td>\n",
       "      <td>...</td>\n",
       "      <td>...</td>\n",
       "      <td>...</td>\n",
       "      <td>...</td>\n",
       "      <td>...</td>\n",
       "      <td>...</td>\n",
       "    </tr>\n",
       "    <tr>\n",
       "      <th>1454</th>\n",
       "      <td>1455</td>\n",
       "      <td>20</td>\n",
       "      <td>FVR</td>\n",
       "      <td>62.0</td>\n",
       "      <td>7500</td>\n",
       "      <td>Paved</td>\n",
       "      <td>Paved</td>\n",
       "      <td>Reg</td>\n",
       "      <td>Lvl</td>\n",
       "      <td>AllPub</td>\n",
       "      <td>...</td>\n",
       "      <td>0</td>\n",
       "      <td>NaN</td>\n",
       "      <td>NaN</td>\n",
       "      <td>NaN</td>\n",
       "      <td>0</td>\n",
       "      <td>10</td>\n",
       "      <td>2009</td>\n",
       "      <td>WD</td>\n",
       "      <td>Normal</td>\n",
       "      <td>185000</td>\n",
       "    </tr>\n",
       "    <tr>\n",
       "      <th>1455</th>\n",
       "      <td>1456</td>\n",
       "      <td>60</td>\n",
       "      <td>RLD</td>\n",
       "      <td>62.0</td>\n",
       "      <td>7917</td>\n",
       "      <td>Paved</td>\n",
       "      <td>NaN</td>\n",
       "      <td>Reg</td>\n",
       "      <td>Lvl</td>\n",
       "      <td>AllPub</td>\n",
       "      <td>...</td>\n",
       "      <td>0</td>\n",
       "      <td>NaN</td>\n",
       "      <td>NaN</td>\n",
       "      <td>NaN</td>\n",
       "      <td>0</td>\n",
       "      <td>8</td>\n",
       "      <td>2007</td>\n",
       "      <td>WD</td>\n",
       "      <td>Normal</td>\n",
       "      <td>175000</td>\n",
       "    </tr>\n",
       "    <tr>\n",
       "      <th>1456</th>\n",
       "      <td>1457</td>\n",
       "      <td>20</td>\n",
       "      <td>RLD</td>\n",
       "      <td>85.0</td>\n",
       "      <td>13175</td>\n",
       "      <td>Paved</td>\n",
       "      <td>NaN</td>\n",
       "      <td>Reg</td>\n",
       "      <td>Lvl</td>\n",
       "      <td>AllPub</td>\n",
       "      <td>...</td>\n",
       "      <td>0</td>\n",
       "      <td>NaN</td>\n",
       "      <td>MnPrv</td>\n",
       "      <td>NaN</td>\n",
       "      <td>0</td>\n",
       "      <td>2</td>\n",
       "      <td>2010</td>\n",
       "      <td>WD</td>\n",
       "      <td>Normal</td>\n",
       "      <td>210000</td>\n",
       "    </tr>\n",
       "    <tr>\n",
       "      <th>1457</th>\n",
       "      <td>1458</td>\n",
       "      <td>70</td>\n",
       "      <td>RLD</td>\n",
       "      <td>66.0</td>\n",
       "      <td>9042</td>\n",
       "      <td>Paved</td>\n",
       "      <td>NaN</td>\n",
       "      <td>Reg</td>\n",
       "      <td>Lvl</td>\n",
       "      <td>AllPub</td>\n",
       "      <td>...</td>\n",
       "      <td>0</td>\n",
       "      <td>NaN</td>\n",
       "      <td>GdPrv</td>\n",
       "      <td>Shed</td>\n",
       "      <td>2500</td>\n",
       "      <td>5</td>\n",
       "      <td>2010</td>\n",
       "      <td>WD</td>\n",
       "      <td>Normal</td>\n",
       "      <td>266500</td>\n",
       "    </tr>\n",
       "    <tr>\n",
       "      <th>1458</th>\n",
       "      <td>1459</td>\n",
       "      <td>20</td>\n",
       "      <td>RLD</td>\n",
       "      <td>68.0</td>\n",
       "      <td>9717</td>\n",
       "      <td>Paved</td>\n",
       "      <td>NaN</td>\n",
       "      <td>Reg</td>\n",
       "      <td>Lvl</td>\n",
       "      <td>AllPub</td>\n",
       "      <td>...</td>\n",
       "      <td>0</td>\n",
       "      <td>NaN</td>\n",
       "      <td>NaN</td>\n",
       "      <td>NaN</td>\n",
       "      <td>0</td>\n",
       "      <td>4</td>\n",
       "      <td>2010</td>\n",
       "      <td>WD</td>\n",
       "      <td>Normal</td>\n",
       "      <td>142125</td>\n",
       "    </tr>\n",
       "  </tbody>\n",
       "</table>\n",
       "<p>1459 rows × 81 columns</p>\n",
       "</div>"
      ],
      "text/plain": [
       "        Id  Building_Class Zoning_Class  Lot_Extent  Lot_Size Road_Type  \\\n",
       "0        1              60          RLD        65.0      8450     Paved   \n",
       "1        2              20          RLD        80.0      9600     Paved   \n",
       "2        3              60          RLD        68.0     11250     Paved   \n",
       "3        4              70          RLD        60.0      9550     Paved   \n",
       "4        5              60          RLD        84.0     14260     Paved   \n",
       "...    ...             ...          ...         ...       ...       ...   \n",
       "1454  1455              20          FVR        62.0      7500     Paved   \n",
       "1455  1456              60          RLD        62.0      7917     Paved   \n",
       "1456  1457              20          RLD        85.0     13175     Paved   \n",
       "1457  1458              70          RLD        66.0      9042     Paved   \n",
       "1458  1459              20          RLD        68.0      9717     Paved   \n",
       "\n",
       "     Lane_Type Property_Shape Land_Outline Utility_Type  ... Pool_Area  \\\n",
       "0          NaN            Reg          Lvl       AllPub  ...         0   \n",
       "1          NaN            Reg          Lvl       AllPub  ...         0   \n",
       "2          NaN            IR1          Lvl       AllPub  ...         0   \n",
       "3          NaN            IR1          Lvl       AllPub  ...         0   \n",
       "4          NaN            IR1          Lvl       AllPub  ...         0   \n",
       "...        ...            ...          ...          ...  ...       ...   \n",
       "1454     Paved            Reg          Lvl       AllPub  ...         0   \n",
       "1455       NaN            Reg          Lvl       AllPub  ...         0   \n",
       "1456       NaN            Reg          Lvl       AllPub  ...         0   \n",
       "1457       NaN            Reg          Lvl       AllPub  ...         0   \n",
       "1458       NaN            Reg          Lvl       AllPub  ...         0   \n",
       "\n",
       "     Pool_Quality Fence_Quality Miscellaneous_Feature Miscellaneous_Value  \\\n",
       "0             NaN           NaN                   NaN                   0   \n",
       "1             NaN           NaN                   NaN                   0   \n",
       "2             NaN           NaN                   NaN                   0   \n",
       "3             NaN           NaN                   NaN                   0   \n",
       "4             NaN           NaN                   NaN                   0   \n",
       "...           ...           ...                   ...                 ...   \n",
       "1454          NaN           NaN                   NaN                   0   \n",
       "1455          NaN           NaN                   NaN                   0   \n",
       "1456          NaN         MnPrv                   NaN                   0   \n",
       "1457          NaN         GdPrv                  Shed                2500   \n",
       "1458          NaN           NaN                   NaN                   0   \n",
       "\n",
       "     Month_Sold Year_Sold  Sale_Type  Sale_Condition  Sale_Price  \n",
       "0             2      2008         WD          Normal      208500  \n",
       "1             5      2007         WD          Normal      181500  \n",
       "2             9      2008         WD          Normal      223500  \n",
       "3             2      2006         WD         Abnorml      140000  \n",
       "4            12      2008         WD          Normal      250000  \n",
       "...         ...       ...        ...             ...         ...  \n",
       "1454         10      2009         WD          Normal      185000  \n",
       "1455          8      2007         WD          Normal      175000  \n",
       "1456          2      2010         WD          Normal      210000  \n",
       "1457          5      2010         WD          Normal      266500  \n",
       "1458          4      2010         WD          Normal      142125  \n",
       "\n",
       "[1459 rows x 81 columns]"
      ]
     },
     "execution_count": 2,
     "metadata": {},
     "output_type": "execute_result"
    }
   ],
   "source": [
    "train=pd.read_csv(r\"D:\\Project\\Property_Price_Train.csv\")\n",
    "train"
   ]
  },
  {
   "cell_type": "code",
   "execution_count": 3,
   "id": "9b3f9cd8",
   "metadata": {},
   "outputs": [
    {
     "data": {
      "text/plain": [
       "(1459, 81)"
      ]
     },
     "execution_count": 3,
     "metadata": {},
     "output_type": "execute_result"
    }
   ],
   "source": [
    "train.shape"
   ]
  },
  {
   "cell_type": "markdown",
   "id": "67793a48",
   "metadata": {},
   "source": [
    "# Data Cleaning"
   ]
  },
  {
   "cell_type": "code",
   "execution_count": 4,
   "id": "3f0e517a",
   "metadata": {},
   "outputs": [
    {
     "name": "stdout",
     "output_type": "stream",
     "text": [
      "total missing values in the train dataset 6960\n"
     ]
    }
   ],
   "source": [
    "print(\"total missing values in the train dataset\",sum(train.isna().sum()))     #prints number of missing values in the dataframe"
   ]
  },
  {
   "cell_type": "code",
   "execution_count": 5,
   "id": "9329fa6d",
   "metadata": {},
   "outputs": [
    {
     "name": "stdout",
     "output_type": "stream",
     "text": [
      "<class 'pandas.core.frame.DataFrame'>\n",
      "RangeIndex: 1459 entries, 0 to 1458\n",
      "Data columns (total 81 columns):\n",
      " #   Column                     Non-Null Count  Dtype  \n",
      "---  ------                     --------------  -----  \n",
      " 0   Id                         1459 non-null   int64  \n",
      " 1   Building_Class             1459 non-null   int64  \n",
      " 2   Zoning_Class               1459 non-null   object \n",
      " 3   Lot_Extent                 1200 non-null   float64\n",
      " 4   Lot_Size                   1459 non-null   int64  \n",
      " 5   Road_Type                  1459 non-null   object \n",
      " 6   Lane_Type                  91 non-null     object \n",
      " 7   Property_Shape             1459 non-null   object \n",
      " 8   Land_Outline               1459 non-null   object \n",
      " 9   Utility_Type               1459 non-null   object \n",
      " 10  Lot_Configuration          1459 non-null   object \n",
      " 11  Property_Slope             1459 non-null   object \n",
      " 12  Neighborhood               1459 non-null   object \n",
      " 13  Condition1                 1459 non-null   object \n",
      " 14  Condition2                 1459 non-null   object \n",
      " 15  House_Type                 1459 non-null   object \n",
      " 16  House_Design               1459 non-null   object \n",
      " 17  Overall_Material           1459 non-null   int64  \n",
      " 18  House_Condition            1459 non-null   int64  \n",
      " 19  Construction_Year          1459 non-null   int64  \n",
      " 20  Remodel_Year               1459 non-null   int64  \n",
      " 21  Roof_Design                1459 non-null   object \n",
      " 22  Roof_Quality               1459 non-null   object \n",
      " 23  Exterior1st                1459 non-null   object \n",
      " 24  Exterior2nd                1459 non-null   object \n",
      " 25  Brick_Veneer_Type          1451 non-null   object \n",
      " 26  Brick_Veneer_Area          1451 non-null   float64\n",
      " 27  Exterior_Material          1459 non-null   object \n",
      " 28  Exterior_Condition         1459 non-null   object \n",
      " 29  Foundation_Type            1459 non-null   object \n",
      " 30  Basement_Height            1422 non-null   object \n",
      " 31  Basement_Condition         1422 non-null   object \n",
      " 32  Exposure_Level             1421 non-null   object \n",
      " 33  BsmtFinType1               1422 non-null   object \n",
      " 34  BsmtFinSF1                 1459 non-null   int64  \n",
      " 35  BsmtFinType2               1421 non-null   object \n",
      " 36  BsmtFinSF2                 1459 non-null   int64  \n",
      " 37  BsmtUnfSF                  1459 non-null   int64  \n",
      " 38  Total_Basement_Area        1459 non-null   int64  \n",
      " 39  Heating_Type               1459 non-null   object \n",
      " 40  Heating_Quality            1459 non-null   object \n",
      " 41  Air_Conditioning           1459 non-null   object \n",
      " 42  Electrical_System          1458 non-null   object \n",
      " 43  First_Floor_Area           1459 non-null   int64  \n",
      " 44  Second_Floor_Area          1459 non-null   int64  \n",
      " 45  LowQualFinSF               1459 non-null   int64  \n",
      " 46  Grade_Living_Area          1459 non-null   int64  \n",
      " 47  Underground_Full_Bathroom  1459 non-null   int64  \n",
      " 48  Underground_Half_Bathroom  1459 non-null   int64  \n",
      " 49  Full_Bathroom_Above_Grade  1459 non-null   int64  \n",
      " 50  Half_Bathroom_Above_Grade  1459 non-null   int64  \n",
      " 51  Bedroom_Above_Grade        1459 non-null   int64  \n",
      " 52  Kitchen_Above_Grade        1459 non-null   int64  \n",
      " 53  Kitchen_Quality            1459 non-null   object \n",
      " 54  Rooms_Above_Grade          1459 non-null   int64  \n",
      " 55  Functional_Rate            1459 non-null   object \n",
      " 56  Fireplaces                 1459 non-null   int64  \n",
      " 57  Fireplace_Quality          770 non-null    object \n",
      " 58  Garage                     1378 non-null   object \n",
      " 59  Garage_Built_Year          1378 non-null   float64\n",
      " 60  Garage_Finish_Year         1378 non-null   object \n",
      " 61  Garage_Size                1459 non-null   int64  \n",
      " 62  Garage_Area                1459 non-null   float64\n",
      " 63  Garage_Quality             1378 non-null   object \n",
      " 64  Garage_Condition           1378 non-null   object \n",
      " 65  Pavedd_Drive               1459 non-null   object \n",
      " 66  W_Deck_Area                1459 non-null   float64\n",
      " 67  Open_Lobby_Area            1459 non-null   float64\n",
      " 68  Enclosed_Lobby_Area        1459 non-null   float64\n",
      " 69  Three_Season_Lobby_Area    1459 non-null   int64  \n",
      " 70  Screen_Lobby_Area          1459 non-null   int64  \n",
      " 71  Pool_Area                  1459 non-null   int64  \n",
      " 72  Pool_Quality               7 non-null      object \n",
      " 73  Fence_Quality              281 non-null    object \n",
      " 74  Miscellaneous_Feature      54 non-null     object \n",
      " 75  Miscellaneous_Value        1459 non-null   int64  \n",
      " 76  Month_Sold                 1459 non-null   int64  \n",
      " 77  Year_Sold                  1459 non-null   int64  \n",
      " 78  Sale_Type                  1459 non-null   object \n",
      " 79  Sale_Condition             1459 non-null   object \n",
      " 80  Sale_Price                 1459 non-null   int64  \n",
      "dtypes: float64(7), int64(31), object(43)\n",
      "memory usage: 923.4+ KB\n"
     ]
    }
   ],
   "source": [
    "train.info()                                    #prints information about the DataFrame"
   ]
  },
  {
   "cell_type": "code",
   "execution_count": 6,
   "id": "0ae12164",
   "metadata": {},
   "outputs": [
    {
     "data": {
      "text/plain": [
       "0          1\n",
       "1          2\n",
       "2          3\n",
       "3          4\n",
       "4          5\n",
       "        ... \n",
       "1454    1455\n",
       "1455    1456\n",
       "1456    1457\n",
       "1457    1458\n",
       "1458    1459\n",
       "Name: Id, Length: 1459, dtype: int64"
      ]
     },
     "execution_count": 6,
     "metadata": {},
     "output_type": "execute_result"
    }
   ],
   "source": [
    "#droping 1 column \n",
    "l_id=train[\"Id\"]\n",
    "l_id"
   ]
  },
  {
   "cell_type": "code",
   "execution_count": 7,
   "id": "fcc62777",
   "metadata": {},
   "outputs": [
    {
     "data": {
      "text/plain": [
       "(1459, 80)"
      ]
     },
     "execution_count": 7,
     "metadata": {},
     "output_type": "execute_result"
    }
   ],
   "source": [
    "#id column dropped\n",
    "train = train.drop(['Id'], axis=1)          \n",
    "train.shape"
   ]
  },
  {
   "cell_type": "code",
   "execution_count": 8,
   "id": "e5d0166d",
   "metadata": {},
   "outputs": [
    {
     "name": "stdout",
     "output_type": "stream",
     "text": [
      "Lane_Type                0.937629\n",
      "Pool_Quality             0.995202\n",
      "Fence_Quality            0.807402\n",
      "Miscellaneous_Feature    0.962988\n",
      "dtype: float64\n"
     ]
    }
   ],
   "source": [
    "#drop col\n",
    "train_percentage=train.isnull().sum()/train.shape[0]\n",
    "print(train_percentage[train_percentage>0.50])\n",
    "train=train.drop(train_percentage[train_percentage>0.50].index,axis=1)"
   ]
  },
  {
   "cell_type": "markdown",
   "id": "f4d21aa8",
   "metadata": {},
   "source": [
    "# Missing Value Treatment"
   ]
  },
  {
   "cell_type": "code",
   "execution_count": 9,
   "id": "c9c5ab01",
   "metadata": {},
   "outputs": [
    {
     "data": {
      "text/plain": [
       "Zoning_Class            0\n",
       "Road_Type               0\n",
       "Property_Shape          0\n",
       "Land_Outline            0\n",
       "Utility_Type            0\n",
       "Lot_Configuration       0\n",
       "Property_Slope          0\n",
       "Neighborhood            0\n",
       "Condition1              0\n",
       "Condition2              0\n",
       "House_Type              0\n",
       "House_Design            0\n",
       "Roof_Design             0\n",
       "Roof_Quality            0\n",
       "Exterior1st             0\n",
       "Exterior2nd             0\n",
       "Brick_Veneer_Type       8\n",
       "Exterior_Material       0\n",
       "Exterior_Condition      0\n",
       "Foundation_Type         0\n",
       "Basement_Height        37\n",
       "Basement_Condition     37\n",
       "Exposure_Level         38\n",
       "BsmtFinType1           37\n",
       "BsmtFinType2           38\n",
       "Heating_Type            0\n",
       "Heating_Quality         0\n",
       "Air_Conditioning        0\n",
       "Electrical_System       1\n",
       "Kitchen_Quality         0\n",
       "Functional_Rate         0\n",
       "Fireplace_Quality     689\n",
       "Garage                 81\n",
       "Garage_Finish_Year     81\n",
       "Garage_Quality         81\n",
       "Garage_Condition       81\n",
       "Pavedd_Drive            0\n",
       "Sale_Type               0\n",
       "Sale_Condition          0\n",
       "dtype: int64"
      ]
     },
     "execution_count": 9,
     "metadata": {},
     "output_type": "execute_result"
    }
   ],
   "source": [
    "num=train.columns[train.dtypes!='object']\n",
    "cat=train.columns[train.dtypes=='object']\n",
    "train[num].isnull().sum()\n",
    "train[cat].isnull().sum()"
   ]
  },
  {
   "cell_type": "code",
   "execution_count": 10,
   "id": "f6b77411",
   "metadata": {},
   "outputs": [],
   "source": [
    "train.Garage_Built_Year=train.Garage_Built_Year.fillna(train.Garage_Built_Year.mean())\n",
    "train.Brick_Veneer_Area=train.Brick_Veneer_Area.fillna(train.Brick_Veneer_Area.mean())\n",
    "train.Lot_Extent=train.Lot_Extent.fillna(train.Lot_Extent.mean())\n",
    "train.Basement_Height=train.Basement_Height.fillna(\"Fa\")\n",
    "train.Basement_Condition=train.Basement_Condition.fillna(\"Po\")\n",
    "train.Brick_Veneer_Type=train.Brick_Veneer_Type.fillna(\"BrkCmn\")\n",
    "train.BsmtFinType1=train.BsmtFinType1.fillna(\"LwQ\")\n",
    "train.BsmtFinType2=train.BsmtFinType2.fillna(\"GLQ\")\n",
    "train.Electrical_System=train.Electrical_System.fillna(\"Mix\")\n",
    "train.Fireplace_Quality=train.Fireplace_Quality.fillna(\"Po\")\n",
    "train.Garage=train.Garage.fillna(\"2Types\")\n",
    "train.Garage_Finish_Year =train.Garage_Finish_Year.fillna(\"Fin\")\n",
    "train.Garage_Quality =train.Garage_Quality.fillna(\"Po\")\n",
    "train.Garage_Condition =train.Garage_Condition.fillna(\"Ex\")\n",
    "train.Exposure_Level =train.Exposure_Level.fillna(\"Mn\")  "
   ]
  },
  {
   "cell_type": "code",
   "execution_count": 11,
   "id": "577a4caa",
   "metadata": {},
   "outputs": [
    {
     "data": {
      "text/plain": [
       "Zoning_Class          0\n",
       "Road_Type             0\n",
       "Property_Shape        0\n",
       "Land_Outline          0\n",
       "Utility_Type          0\n",
       "Lot_Configuration     0\n",
       "Property_Slope        0\n",
       "Neighborhood          0\n",
       "Condition1            0\n",
       "Condition2            0\n",
       "House_Type            0\n",
       "House_Design          0\n",
       "Roof_Design           0\n",
       "Roof_Quality          0\n",
       "Exterior1st           0\n",
       "Exterior2nd           0\n",
       "Brick_Veneer_Type     0\n",
       "Exterior_Material     0\n",
       "Exterior_Condition    0\n",
       "Foundation_Type       0\n",
       "Basement_Height       0\n",
       "Basement_Condition    0\n",
       "Exposure_Level        0\n",
       "BsmtFinType1          0\n",
       "BsmtFinType2          0\n",
       "Heating_Type          0\n",
       "Heating_Quality       0\n",
       "Air_Conditioning      0\n",
       "Electrical_System     0\n",
       "Kitchen_Quality       0\n",
       "Functional_Rate       0\n",
       "Fireplace_Quality     0\n",
       "Garage                0\n",
       "Garage_Finish_Year    0\n",
       "Garage_Quality        0\n",
       "Garage_Condition      0\n",
       "Pavedd_Drive          0\n",
       "Sale_Type             0\n",
       "Sale_Condition        0\n",
       "dtype: int64"
      ]
     },
     "execution_count": 11,
     "metadata": {},
     "output_type": "execute_result"
    }
   ],
   "source": [
    "train[num].isnull().sum()\n",
    "train[cat].isnull().sum()"
   ]
  },
  {
   "cell_type": "markdown",
   "id": "31c2a945",
   "metadata": {},
   "source": [
    "# dtype conversion"
   ]
  },
  {
   "cell_type": "code",
   "execution_count": 12,
   "id": "c5465eb6",
   "metadata": {},
   "outputs": [],
   "source": [
    "train.Road_Type.replace({\"Paved\":0,\"Gravel\":1},inplace=True)\n",
    "train.Utility_Type.replace({\"AllPub\":0,\"NoSeWa\":1},inplace=True)\n",
    "train.Air_Conditioning.replace({\"Y\":0,\"N\":1},inplace=True)\n",
    "train.Property_Slope.replace({\"GS\":0,\"MS\":1,\"SS\":2},inplace=True)\n",
    "train.Pavedd_Drive.replace({\"Y\":0,\"N\":1,\"P\":2},inplace=True)\n",
    "train.Basement_Height.replace({\"TA\":0,\"Gd\":1,\"Ex\":2,\"Fa\":3},inplace=True)\n",
    "train.Basement_Condition.replace({\"TA\":0,\"Gd\":1,\"Fa\":2,\"Po\":3},inplace=True)\n",
    "train.Brick_Veneer_Type.replace({\"None\":0,\"BrkFace\":1,\"Stone\":2,\"BrkCmn\":3},inplace=True)\n",
    "train.BsmtFinType1.replace({\"Unf\":0,\"GLQ\":1,\"ALQ\":2,\"BLQ\":3,\"Rec\":4,\"LwQ\":5},inplace=True)\n",
    "train.Garage_Quality.replace({\"TA\":0,\"Po\":1,\"Fa\":2,\"Gd\":3,\"Ex\":4},inplace=True)\n",
    "train.Garage_Condition.replace({\"TA\":0,\"Ex\":1,\"Fa\":2,\"Gd\":3,\"Po\":4},inplace=True)\n",
    "train.Exposure_Level.replace({\"No\":0,\"Av\":1,\"Mn\":2,\"Gd\":3},inplace=True)\n",
    "train.Zoning_Class.replace({\"RLD\":0,\"RMD\":1,\"FVR\":2,\"RHD\":3,\"Commer\":4},inplace=True)\n",
    "train.Property_Shape.replace({\"Reg\":0,\"IR1\":1,\"IR2\":2,\"IR3\":3},inplace=True)\n",
    "train.Heating_Type.replace({\"GS\":0,\"MS\":1,\"SS\":2},inplace=True)\n",
    "train.Lot_Configuration.replace({\"I\":0,\"C\":1,\"CulDSac\":2,\"FR2P\":3,\"FR3P\":4},inplace=True)\n",
    "train.Land_Outline.replace({\"Lvl\":0,\"Bnk\":1,\"HLS\":2,\"Low\":3},inplace=True)\n",
    "train.Exterior2nd.replace({\"VinylSd\":0,\"MetalSd\":1,\"HdBoard\":2,\"Wd Sdng\":3,\"Plywood\":4,\"CmentBd\":5,\"Wd Shng\":6,\"Stucco\":7,\"BrkFace\":8,\"AsbShng\":9,\"ImStucc\":10,\"Brk Cmn\":11,\"Stone\":12,\"AsphShn\":13,\"Other\":14,\"CBlock\":15},inplace=True)\n",
    "train.Exterior1st.replace({\"VinylSd\":0,\"HdBoard\":1,\"MetalSd\":2,\"Wd Sdng\":3,\"Plywood\":4,\"CemntBd\":5,\"BrkFace\":6,\"WdShing\":7,\"Stucco\":8,\"AsbShng\":9,\"BrkComm\":10,\"Stone\":11,\"AsphShn\":12,\"ImStucc\":13,\"CBlock\":14},inplace=True)\n",
    "train.Neighborhood.replace({\"NAmes\":0,\"CollgCr\":1,\"OldTown\":2,\"Edwards\":3,\"Somerst\":4,\"Gilbert\":5,\"NridgHt\":6,\"Sawyer\":7,\"NWAmes\":8,\"SawyerW\":9,\"BrkSide\":10,\"Crawfor\":11,\"Mitchel\":12,\"NoRidge\":13,\"Timber\":14,\"IDOTRR\":15,\"ClearCr\":16,\"StoneBr\":17,\"SWISU\":18,\"MeadowV\":19,\"Blmngtn\":20,\"BrDale\":21,\"Veenker\":22,\"NPkVill\":23,\"Blueste\":24},inplace=True)\n",
    "train.Condition1.replace({\"Norm\":0,\"Feedr\":1,\"Artery\":2,\"RRNn\":3,\"RRAn\":4,\"PosN\":5,\"RRAe\":6,\"PosA\":7,\"RRNn\":8,\"RRNe\":9},inplace=True)\n",
    "train.Condition2.replace({\"Norm\":0,\"Feedr\":1,\"Artery\":2,\"RRNn\":3,\"PosN\":4,\"PosA\":5,\"RRAn\":6,\"RRAe\":7},inplace=True)\n",
    "train.House_Type.replace({\"1Fam\":0,\"TwnhsE\":1,\"Duplex\":2,\"Twnhs\":3,\"2fmCon\":4},inplace=True)\n",
    "train.House_Design.replace({\"1Story\":0,\"2Story\":1,\"1.5Fin\":2,\"SLvl\":3,\"SFoyer\":4,\"1.5Unf\":5,\"2.5Unf\":6,\"2.5Fin\":7},inplace=True)\n",
    "train.Roof_Design.replace({\"Gable\":0,\"Hip\":1,\"Flat\":2,\"Gambrel\":3,\"Mansard\":4,\"Shed\":5},inplace=True)\n",
    "train.Exterior_Material.replace({\"TA\":0,\"Gd\":1,\"Ex\":2,\"Fa\":3},inplace=True)\n",
    "train.Foundation_Type.replace({\"PC\":0,\"CB\":1,\"BT\":2,\"SL\":3,\"S\":4,\"W\":5},inplace=True)\n",
    "train.Exterior_Condition.replace({\"TA\":0,\"Gd\":1,\"Fa\":2,\"Ex\":3,\"Po\":4},inplace=True)\n",
    "train.Roof_Quality.replace({\"SS\":0,\"TG\":1,\"WSh\":2,\"WS\":3,\"ME\":4,\"M\":5,\"R\":6,\"CT\":7},inplace=True)\n",
    "train.Heating_Type.replace({\"GasA\":0,\"GasW\":1,\"Grav\":2,\"Wall\":3,\"OthW\":4,\"Floor\":5},inplace=True)\n",
    "train.BsmtFinType2.replace({\"Unf\":0,\"Rec\":1,\"GLQ\":2,\"LwQ\":3,\"BLQ\":4,\"ALQ\":5},inplace=True)\n",
    "train.Electrical_System.replace({\"SBrkr\":0,\"FuseA\":1,\"FuseF\":2,\"FuseP\":3,\"Mix\":4},inplace=True)\n",
    "train.Fireplace_Quality.replace({\"Po\":0,\"Gd\":1,\"TA\":2,\"Fa\":3,\"Ex\":4},inplace=True)\n",
    "train.Garage.replace({\"Attchd\":0,\"Detchd\":1,\"BuiltIn\":2,\"2Types\":3,\"Basment\":4,\"CarPort\":5,\"2TFes\":6},inplace=True)\n",
    "train.Fireplace_Quality.replace({\"Po\":0,\"Gd\":1,\"TA\":2,\"Fa\":3,\"Ex\":4},inplace=True)\n",
    "train.Garage_Finish_Year.replace({\"Unf\":0,\"Fin\":1,\"RFn\":2},inplace=True)\n",
    "train.Sale_Type.replace({\"WD\":0,\"New\":1,\"COD\":2,\"ConLD\":3,\"ConLI\":4,\"ConLw\":5,\"CWD\":6,\"Oth\":7,\"Con\":8},inplace=True)\n",
    "train.Sale_Condition.replace({\"Normal\":0,\"Partial\":1,\"Abnorml\":2,\"Family\":3,\"Alloca\":4,\"AdjLand\":5},inplace=True)\n",
    "train.Functional_Rate.replace({\"TF\":0,\"MD2\":1,\"MD1\":2,\"MajD1\":3,\"MD\":4,\"MajD2\":5,\"SD\":6,\"MS\":7},inplace=True)\n",
    "train.Heating_Quality.replace({\"Ex\":0,\"TA\":1,\"Gd\":2,\"Fa\":3,\"Po\":4},inplace=True)\n",
    "train.Kitchen_Quality.replace({\"TA\":0,\"Gd\":1,\"Ex\":2,\"Fa\":3},inplace=True)"
   ]
  },
  {
   "cell_type": "code",
   "execution_count": 13,
   "id": "e54da1a4",
   "metadata": {},
   "outputs": [
    {
     "name": "stdout",
     "output_type": "stream",
     "text": [
      "<class 'pandas.core.frame.DataFrame'>\n",
      "RangeIndex: 1459 entries, 0 to 1458\n",
      "Data columns (total 76 columns):\n",
      " #   Column                     Non-Null Count  Dtype  \n",
      "---  ------                     --------------  -----  \n",
      " 0   Building_Class             1459 non-null   int64  \n",
      " 1   Zoning_Class               1459 non-null   int64  \n",
      " 2   Lot_Extent                 1459 non-null   float64\n",
      " 3   Lot_Size                   1459 non-null   int64  \n",
      " 4   Road_Type                  1459 non-null   int64  \n",
      " 5   Property_Shape             1459 non-null   int64  \n",
      " 6   Land_Outline               1459 non-null   int64  \n",
      " 7   Utility_Type               1459 non-null   int64  \n",
      " 8   Lot_Configuration          1459 non-null   int64  \n",
      " 9   Property_Slope             1459 non-null   int64  \n",
      " 10  Neighborhood               1459 non-null   int64  \n",
      " 11  Condition1                 1459 non-null   int64  \n",
      " 12  Condition2                 1459 non-null   int64  \n",
      " 13  House_Type                 1459 non-null   int64  \n",
      " 14  House_Design               1459 non-null   int64  \n",
      " 15  Overall_Material           1459 non-null   int64  \n",
      " 16  House_Condition            1459 non-null   int64  \n",
      " 17  Construction_Year          1459 non-null   int64  \n",
      " 18  Remodel_Year               1459 non-null   int64  \n",
      " 19  Roof_Design                1459 non-null   int64  \n",
      " 20  Roof_Quality               1459 non-null   int64  \n",
      " 21  Exterior1st                1459 non-null   int64  \n",
      " 22  Exterior2nd                1459 non-null   int64  \n",
      " 23  Brick_Veneer_Type          1459 non-null   int64  \n",
      " 24  Brick_Veneer_Area          1459 non-null   float64\n",
      " 25  Exterior_Material          1459 non-null   int64  \n",
      " 26  Exterior_Condition         1459 non-null   int64  \n",
      " 27  Foundation_Type            1459 non-null   int64  \n",
      " 28  Basement_Height            1459 non-null   int64  \n",
      " 29  Basement_Condition         1459 non-null   int64  \n",
      " 30  Exposure_Level             1459 non-null   int64  \n",
      " 31  BsmtFinType1               1459 non-null   int64  \n",
      " 32  BsmtFinSF1                 1459 non-null   int64  \n",
      " 33  BsmtFinType2               1459 non-null   int64  \n",
      " 34  BsmtFinSF2                 1459 non-null   int64  \n",
      " 35  BsmtUnfSF                  1459 non-null   int64  \n",
      " 36  Total_Basement_Area        1459 non-null   int64  \n",
      " 37  Heating_Type               1459 non-null   int64  \n",
      " 38  Heating_Quality            1459 non-null   int64  \n",
      " 39  Air_Conditioning           1459 non-null   int64  \n",
      " 40  Electrical_System          1459 non-null   int64  \n",
      " 41  First_Floor_Area           1459 non-null   int64  \n",
      " 42  Second_Floor_Area          1459 non-null   int64  \n",
      " 43  LowQualFinSF               1459 non-null   int64  \n",
      " 44  Grade_Living_Area          1459 non-null   int64  \n",
      " 45  Underground_Full_Bathroom  1459 non-null   int64  \n",
      " 46  Underground_Half_Bathroom  1459 non-null   int64  \n",
      " 47  Full_Bathroom_Above_Grade  1459 non-null   int64  \n",
      " 48  Half_Bathroom_Above_Grade  1459 non-null   int64  \n",
      " 49  Bedroom_Above_Grade        1459 non-null   int64  \n",
      " 50  Kitchen_Above_Grade        1459 non-null   int64  \n",
      " 51  Kitchen_Quality            1459 non-null   int64  \n",
      " 52  Rooms_Above_Grade          1459 non-null   int64  \n",
      " 53  Functional_Rate            1459 non-null   int64  \n",
      " 54  Fireplaces                 1459 non-null   int64  \n",
      " 55  Fireplace_Quality          1459 non-null   int64  \n",
      " 56  Garage                     1459 non-null   int64  \n",
      " 57  Garage_Built_Year          1459 non-null   float64\n",
      " 58  Garage_Finish_Year         1459 non-null   int64  \n",
      " 59  Garage_Size                1459 non-null   int64  \n",
      " 60  Garage_Area                1459 non-null   float64\n",
      " 61  Garage_Quality             1459 non-null   int64  \n",
      " 62  Garage_Condition           1459 non-null   int64  \n",
      " 63  Pavedd_Drive               1459 non-null   int64  \n",
      " 64  W_Deck_Area                1459 non-null   float64\n",
      " 65  Open_Lobby_Area            1459 non-null   float64\n",
      " 66  Enclosed_Lobby_Area        1459 non-null   float64\n",
      " 67  Three_Season_Lobby_Area    1459 non-null   int64  \n",
      " 68  Screen_Lobby_Area          1459 non-null   int64  \n",
      " 69  Pool_Area                  1459 non-null   int64  \n",
      " 70  Miscellaneous_Value        1459 non-null   int64  \n",
      " 71  Month_Sold                 1459 non-null   int64  \n",
      " 72  Year_Sold                  1459 non-null   int64  \n",
      " 73  Sale_Type                  1459 non-null   int64  \n",
      " 74  Sale_Condition             1459 non-null   int64  \n",
      " 75  Sale_Price                 1459 non-null   int64  \n",
      "dtypes: float64(7), int64(69)\n",
      "memory usage: 866.4 KB\n"
     ]
    }
   ],
   "source": [
    "train.info()"
   ]
  },
  {
   "cell_type": "code",
   "execution_count": 14,
   "id": "f9e04380",
   "metadata": {},
   "outputs": [],
   "source": [
    "#Dropping duplicate values\n",
    "train.drop_duplicates(inplace=True)"
   ]
  },
  {
   "cell_type": "code",
   "execution_count": 15,
   "id": "a9946a2f",
   "metadata": {},
   "outputs": [
    {
     "data": {
      "text/plain": [
       "(1459, 76)"
      ]
     },
     "execution_count": 15,
     "metadata": {},
     "output_type": "execute_result"
    }
   ],
   "source": [
    "train.shape"
   ]
  },
  {
   "cell_type": "code",
   "execution_count": 16,
   "id": "45fd72dd",
   "metadata": {},
   "outputs": [
    {
     "data": {
      "text/html": [
       "<div>\n",
       "<style scoped>\n",
       "    .dataframe tbody tr th:only-of-type {\n",
       "        vertical-align: middle;\n",
       "    }\n",
       "\n",
       "    .dataframe tbody tr th {\n",
       "        vertical-align: top;\n",
       "    }\n",
       "\n",
       "    .dataframe thead th {\n",
       "        text-align: right;\n",
       "    }\n",
       "</style>\n",
       "<table border=\"1\" class=\"dataframe\">\n",
       "  <thead>\n",
       "    <tr style=\"text-align: right;\">\n",
       "      <th></th>\n",
       "      <th>Sale_Price</th>\n",
       "    </tr>\n",
       "  </thead>\n",
       "  <tbody>\n",
       "    <tr>\n",
       "      <th>Sale_Price</th>\n",
       "      <td>1.000000</td>\n",
       "    </tr>\n",
       "    <tr>\n",
       "      <th>Overall_Material</th>\n",
       "      <td>0.790972</td>\n",
       "    </tr>\n",
       "    <tr>\n",
       "      <th>Grade_Living_Area</th>\n",
       "      <td>0.708584</td>\n",
       "    </tr>\n",
       "    <tr>\n",
       "      <th>Garage_Size</th>\n",
       "      <td>0.640383</td>\n",
       "    </tr>\n",
       "    <tr>\n",
       "      <th>Total_Basement_Area</th>\n",
       "      <td>0.613792</td>\n",
       "    </tr>\n",
       "    <tr>\n",
       "      <th>...</th>\n",
       "      <td>...</td>\n",
       "    </tr>\n",
       "    <tr>\n",
       "      <th>BsmtFinType1</th>\n",
       "      <td>-0.232342</td>\n",
       "    </tr>\n",
       "    <tr>\n",
       "      <th>Garage</th>\n",
       "      <td>-0.246884</td>\n",
       "    </tr>\n",
       "    <tr>\n",
       "      <th>Air_Conditioning</th>\n",
       "      <td>-0.251426</td>\n",
       "    </tr>\n",
       "    <tr>\n",
       "      <th>Heating_Quality</th>\n",
       "      <td>-0.369809</td>\n",
       "    </tr>\n",
       "    <tr>\n",
       "      <th>Foundation_Type</th>\n",
       "      <td>-0.441782</td>\n",
       "    </tr>\n",
       "  </tbody>\n",
       "</table>\n",
       "<p>76 rows × 1 columns</p>\n",
       "</div>"
      ],
      "text/plain": [
       "                     Sale_Price\n",
       "Sale_Price             1.000000\n",
       "Overall_Material       0.790972\n",
       "Grade_Living_Area      0.708584\n",
       "Garage_Size            0.640383\n",
       "Total_Basement_Area    0.613792\n",
       "...                         ...\n",
       "BsmtFinType1          -0.232342\n",
       "Garage                -0.246884\n",
       "Air_Conditioning      -0.251426\n",
       "Heating_Quality       -0.369809\n",
       "Foundation_Type       -0.441782\n",
       "\n",
       "[76 rows x 1 columns]"
      ]
     },
     "execution_count": 16,
     "metadata": {},
     "output_type": "execute_result"
    }
   ],
   "source": [
    "# checking the corelation between the target variable and the other numerical columns\n",
    "corr = train.corr().sort_values(by='Sale_Price', ascending=False)[['Sale_Price']]\n",
    "corr"
   ]
  },
  {
   "cell_type": "code",
   "execution_count": 17,
   "id": "076acc55",
   "metadata": {},
   "outputs": [],
   "source": [
    "#it is used to devide train[num]\n",
    "train = train.drop(['Three_Season_Lobby_Area','W_Deck_Area','Enclosed_Lobby_Area','Garage_Area','Open_Lobby_Area','Kitchen_Above_Grade','LowQualFinSF','Year_Sold'], axis=1)"
   ]
  },
  {
   "cell_type": "code",
   "execution_count": 18,
   "id": "d2f8c533",
   "metadata": {},
   "outputs": [
    {
     "data": {
      "text/html": [
       "<div>\n",
       "<style scoped>\n",
       "    .dataframe tbody tr th:only-of-type {\n",
       "        vertical-align: middle;\n",
       "    }\n",
       "\n",
       "    .dataframe tbody tr th {\n",
       "        vertical-align: top;\n",
       "    }\n",
       "\n",
       "    .dataframe thead th {\n",
       "        text-align: right;\n",
       "    }\n",
       "</style>\n",
       "<table border=\"1\" class=\"dataframe\">\n",
       "  <thead>\n",
       "    <tr style=\"text-align: right;\">\n",
       "      <th></th>\n",
       "      <th>Building_Class</th>\n",
       "      <th>Zoning_Class</th>\n",
       "      <th>Lot_Extent</th>\n",
       "      <th>Lot_Size</th>\n",
       "      <th>Road_Type</th>\n",
       "      <th>Property_Shape</th>\n",
       "      <th>Land_Outline</th>\n",
       "      <th>Utility_Type</th>\n",
       "      <th>Lot_Configuration</th>\n",
       "      <th>Property_Slope</th>\n",
       "      <th>...</th>\n",
       "      <th>Garage_Quality</th>\n",
       "      <th>Garage_Condition</th>\n",
       "      <th>Pavedd_Drive</th>\n",
       "      <th>Screen_Lobby_Area</th>\n",
       "      <th>Pool_Area</th>\n",
       "      <th>Miscellaneous_Value</th>\n",
       "      <th>Month_Sold</th>\n",
       "      <th>Sale_Type</th>\n",
       "      <th>Sale_Condition</th>\n",
       "      <th>Sale_Price</th>\n",
       "    </tr>\n",
       "  </thead>\n",
       "  <tbody>\n",
       "    <tr>\n",
       "      <th>1454</th>\n",
       "      <td>20</td>\n",
       "      <td>2</td>\n",
       "      <td>62.0</td>\n",
       "      <td>7500</td>\n",
       "      <td>0</td>\n",
       "      <td>0</td>\n",
       "      <td>0</td>\n",
       "      <td>0</td>\n",
       "      <td>0</td>\n",
       "      <td>0</td>\n",
       "      <td>...</td>\n",
       "      <td>0</td>\n",
       "      <td>0</td>\n",
       "      <td>0</td>\n",
       "      <td>0</td>\n",
       "      <td>0</td>\n",
       "      <td>0</td>\n",
       "      <td>10</td>\n",
       "      <td>0</td>\n",
       "      <td>0</td>\n",
       "      <td>185000</td>\n",
       "    </tr>\n",
       "    <tr>\n",
       "      <th>1455</th>\n",
       "      <td>60</td>\n",
       "      <td>0</td>\n",
       "      <td>62.0</td>\n",
       "      <td>7917</td>\n",
       "      <td>0</td>\n",
       "      <td>0</td>\n",
       "      <td>0</td>\n",
       "      <td>0</td>\n",
       "      <td>0</td>\n",
       "      <td>0</td>\n",
       "      <td>...</td>\n",
       "      <td>0</td>\n",
       "      <td>0</td>\n",
       "      <td>0</td>\n",
       "      <td>0</td>\n",
       "      <td>0</td>\n",
       "      <td>0</td>\n",
       "      <td>8</td>\n",
       "      <td>0</td>\n",
       "      <td>0</td>\n",
       "      <td>175000</td>\n",
       "    </tr>\n",
       "    <tr>\n",
       "      <th>1456</th>\n",
       "      <td>20</td>\n",
       "      <td>0</td>\n",
       "      <td>85.0</td>\n",
       "      <td>13175</td>\n",
       "      <td>0</td>\n",
       "      <td>0</td>\n",
       "      <td>0</td>\n",
       "      <td>0</td>\n",
       "      <td>0</td>\n",
       "      <td>0</td>\n",
       "      <td>...</td>\n",
       "      <td>0</td>\n",
       "      <td>0</td>\n",
       "      <td>0</td>\n",
       "      <td>0</td>\n",
       "      <td>0</td>\n",
       "      <td>0</td>\n",
       "      <td>2</td>\n",
       "      <td>0</td>\n",
       "      <td>0</td>\n",
       "      <td>210000</td>\n",
       "    </tr>\n",
       "    <tr>\n",
       "      <th>1457</th>\n",
       "      <td>70</td>\n",
       "      <td>0</td>\n",
       "      <td>66.0</td>\n",
       "      <td>9042</td>\n",
       "      <td>0</td>\n",
       "      <td>0</td>\n",
       "      <td>0</td>\n",
       "      <td>0</td>\n",
       "      <td>0</td>\n",
       "      <td>0</td>\n",
       "      <td>...</td>\n",
       "      <td>0</td>\n",
       "      <td>0</td>\n",
       "      <td>0</td>\n",
       "      <td>0</td>\n",
       "      <td>0</td>\n",
       "      <td>2500</td>\n",
       "      <td>5</td>\n",
       "      <td>0</td>\n",
       "      <td>0</td>\n",
       "      <td>266500</td>\n",
       "    </tr>\n",
       "    <tr>\n",
       "      <th>1458</th>\n",
       "      <td>20</td>\n",
       "      <td>0</td>\n",
       "      <td>68.0</td>\n",
       "      <td>9717</td>\n",
       "      <td>0</td>\n",
       "      <td>0</td>\n",
       "      <td>0</td>\n",
       "      <td>0</td>\n",
       "      <td>0</td>\n",
       "      <td>0</td>\n",
       "      <td>...</td>\n",
       "      <td>0</td>\n",
       "      <td>0</td>\n",
       "      <td>0</td>\n",
       "      <td>0</td>\n",
       "      <td>0</td>\n",
       "      <td>0</td>\n",
       "      <td>4</td>\n",
       "      <td>0</td>\n",
       "      <td>0</td>\n",
       "      <td>142125</td>\n",
       "    </tr>\n",
       "  </tbody>\n",
       "</table>\n",
       "<p>5 rows × 68 columns</p>\n",
       "</div>"
      ],
      "text/plain": [
       "      Building_Class  Zoning_Class  Lot_Extent  Lot_Size  Road_Type  \\\n",
       "1454              20             2        62.0      7500          0   \n",
       "1455              60             0        62.0      7917          0   \n",
       "1456              20             0        85.0     13175          0   \n",
       "1457              70             0        66.0      9042          0   \n",
       "1458              20             0        68.0      9717          0   \n",
       "\n",
       "      Property_Shape  Land_Outline  Utility_Type  Lot_Configuration  \\\n",
       "1454               0             0             0                  0   \n",
       "1455               0             0             0                  0   \n",
       "1456               0             0             0                  0   \n",
       "1457               0             0             0                  0   \n",
       "1458               0             0             0                  0   \n",
       "\n",
       "      Property_Slope  ...  Garage_Quality  Garage_Condition  Pavedd_Drive  \\\n",
       "1454               0  ...               0                 0             0   \n",
       "1455               0  ...               0                 0             0   \n",
       "1456               0  ...               0                 0             0   \n",
       "1457               0  ...               0                 0             0   \n",
       "1458               0  ...               0                 0             0   \n",
       "\n",
       "      Screen_Lobby_Area  Pool_Area  Miscellaneous_Value  Month_Sold  \\\n",
       "1454                  0          0                    0          10   \n",
       "1455                  0          0                    0           8   \n",
       "1456                  0          0                    0           2   \n",
       "1457                  0          0                 2500           5   \n",
       "1458                  0          0                    0           4   \n",
       "\n",
       "      Sale_Type  Sale_Condition  Sale_Price  \n",
       "1454          0               0      185000  \n",
       "1455          0               0      175000  \n",
       "1456          0               0      210000  \n",
       "1457          0               0      266500  \n",
       "1458          0               0      142125  \n",
       "\n",
       "[5 rows x 68 columns]"
      ]
     },
     "execution_count": 18,
     "metadata": {},
     "output_type": "execute_result"
    }
   ],
   "source": [
    "train.tail(5)"
   ]
  },
  {
   "cell_type": "markdown",
   "id": "c12d3988",
   "metadata": {},
   "source": [
    "# Exploratory Data Analysis (EDA)"
   ]
  },
  {
   "cell_type": "code",
   "execution_count": 19,
   "id": "bf28aa1c",
   "metadata": {},
   "outputs": [
    {
     "data": {
      "text/html": [
       "<div>\n",
       "<style scoped>\n",
       "    .dataframe tbody tr th:only-of-type {\n",
       "        vertical-align: middle;\n",
       "    }\n",
       "\n",
       "    .dataframe tbody tr th {\n",
       "        vertical-align: top;\n",
       "    }\n",
       "\n",
       "    .dataframe thead th {\n",
       "        text-align: right;\n",
       "    }\n",
       "</style>\n",
       "<table border=\"1\" class=\"dataframe\">\n",
       "  <thead>\n",
       "    <tr style=\"text-align: right;\">\n",
       "      <th></th>\n",
       "      <th>Building_Class</th>\n",
       "      <th>Zoning_Class</th>\n",
       "      <th>Lot_Extent</th>\n",
       "      <th>Lot_Size</th>\n",
       "      <th>Road_Type</th>\n",
       "      <th>Property_Shape</th>\n",
       "      <th>Land_Outline</th>\n",
       "      <th>Utility_Type</th>\n",
       "      <th>Lot_Configuration</th>\n",
       "      <th>Property_Slope</th>\n",
       "      <th>...</th>\n",
       "      <th>Garage_Quality</th>\n",
       "      <th>Garage_Condition</th>\n",
       "      <th>Pavedd_Drive</th>\n",
       "      <th>Screen_Lobby_Area</th>\n",
       "      <th>Pool_Area</th>\n",
       "      <th>Miscellaneous_Value</th>\n",
       "      <th>Month_Sold</th>\n",
       "      <th>Sale_Type</th>\n",
       "      <th>Sale_Condition</th>\n",
       "      <th>Sale_Price</th>\n",
       "    </tr>\n",
       "  </thead>\n",
       "  <tbody>\n",
       "    <tr>\n",
       "      <th>Building_Class</th>\n",
       "      <td>1.000000</td>\n",
       "      <td>0.280131</td>\n",
       "      <td>-0.357020</td>\n",
       "      <td>-0.139852</td>\n",
       "      <td>0.024937</td>\n",
       "      <td>-0.115830</td>\n",
       "      <td>-0.025280</td>\n",
       "      <td>-2.286547e-02</td>\n",
       "      <td>-0.037909</td>\n",
       "      <td>-0.025814</td>\n",
       "      <td>...</td>\n",
       "      <td>0.047708</td>\n",
       "      <td>0.050869</td>\n",
       "      <td>0.025812</td>\n",
       "      <td>-0.026199</td>\n",
       "      <td>0.008244</td>\n",
       "      <td>-0.007738</td>\n",
       "      <td>-0.013660</td>\n",
       "      <td>0.015914</td>\n",
       "      <td>0.004546</td>\n",
       "      <td>-0.084563</td>\n",
       "    </tr>\n",
       "    <tr>\n",
       "      <th>Zoning_Class</th>\n",
       "      <td>0.280131</td>\n",
       "      <td>1.000000</td>\n",
       "      <td>-0.240691</td>\n",
       "      <td>-0.164122</td>\n",
       "      <td>0.115491</td>\n",
       "      <td>-0.188663</td>\n",
       "      <td>0.008481</td>\n",
       "      <td>-1.170991e-02</td>\n",
       "      <td>-0.083132</td>\n",
       "      <td>-0.019283</td>\n",
       "      <td>...</td>\n",
       "      <td>0.096578</td>\n",
       "      <td>0.093352</td>\n",
       "      <td>0.166174</td>\n",
       "      <td>-0.063862</td>\n",
       "      <td>-0.030725</td>\n",
       "      <td>-0.017773</td>\n",
       "      <td>0.030932</td>\n",
       "      <td>0.073767</td>\n",
       "      <td>0.098937</td>\n",
       "      <td>-0.183794</td>\n",
       "    </tr>\n",
       "    <tr>\n",
       "      <th>Lot_Extent</th>\n",
       "      <td>-0.357020</td>\n",
       "      <td>-0.240691</td>\n",
       "      <td>1.000000</td>\n",
       "      <td>0.306801</td>\n",
       "      <td>0.037333</td>\n",
       "      <td>0.197201</td>\n",
       "      <td>0.085636</td>\n",
       "      <td>2.937024e-17</td>\n",
       "      <td>0.050920</td>\n",
       "      <td>0.067637</td>\n",
       "      <td>...</td>\n",
       "      <td>-0.082049</td>\n",
       "      <td>-0.081294</td>\n",
       "      <td>-0.067835</td>\n",
       "      <td>0.037727</td>\n",
       "      <td>0.180882</td>\n",
       "      <td>0.001176</td>\n",
       "      <td>0.010178</td>\n",
       "      <td>0.009596</td>\n",
       "      <td>0.017212</td>\n",
       "      <td>0.334992</td>\n",
       "    </tr>\n",
       "    <tr>\n",
       "      <th>Lot_Size</th>\n",
       "      <td>-0.139852</td>\n",
       "      <td>-0.164122</td>\n",
       "      <td>0.306801</td>\n",
       "      <td>1.000000</td>\n",
       "      <td>0.197129</td>\n",
       "      <td>0.315510</td>\n",
       "      <td>0.339008</td>\n",
       "      <td>1.012216e-02</td>\n",
       "      <td>0.131091</td>\n",
       "      <td>0.436867</td>\n",
       "      <td>...</td>\n",
       "      <td>-0.041943</td>\n",
       "      <td>-0.056324</td>\n",
       "      <td>-0.002975</td>\n",
       "      <td>0.043151</td>\n",
       "      <td>0.077670</td>\n",
       "      <td>0.038064</td>\n",
       "      <td>0.001200</td>\n",
       "      <td>-0.013297</td>\n",
       "      <td>-0.016210</td>\n",
       "      <td>0.263843</td>\n",
       "    </tr>\n",
       "    <tr>\n",
       "      <th>Road_Type</th>\n",
       "      <td>0.024937</td>\n",
       "      <td>0.115491</td>\n",
       "      <td>0.037333</td>\n",
       "      <td>0.197129</td>\n",
       "      <td>1.000000</td>\n",
       "      <td>0.010099</td>\n",
       "      <td>0.103933</td>\n",
       "      <td>-1.682922e-03</td>\n",
       "      <td>-0.006929</td>\n",
       "      <td>0.179353</td>\n",
       "      <td>...</td>\n",
       "      <td>0.000759</td>\n",
       "      <td>0.003010</td>\n",
       "      <td>0.011236</td>\n",
       "      <td>0.033149</td>\n",
       "      <td>-0.004416</td>\n",
       "      <td>0.022729</td>\n",
       "      <td>-0.003695</td>\n",
       "      <td>0.021556</td>\n",
       "      <td>0.029713</td>\n",
       "      <td>-0.041057</td>\n",
       "    </tr>\n",
       "    <tr>\n",
       "      <th>...</th>\n",
       "      <td>...</td>\n",
       "      <td>...</td>\n",
       "      <td>...</td>\n",
       "      <td>...</td>\n",
       "      <td>...</td>\n",
       "      <td>...</td>\n",
       "      <td>...</td>\n",
       "      <td>...</td>\n",
       "      <td>...</td>\n",
       "      <td>...</td>\n",
       "      <td>...</td>\n",
       "      <td>...</td>\n",
       "      <td>...</td>\n",
       "      <td>...</td>\n",
       "      <td>...</td>\n",
       "      <td>...</td>\n",
       "      <td>...</td>\n",
       "      <td>...</td>\n",
       "      <td>...</td>\n",
       "      <td>...</td>\n",
       "      <td>...</td>\n",
       "    </tr>\n",
       "    <tr>\n",
       "      <th>Miscellaneous_Value</th>\n",
       "      <td>-0.007738</td>\n",
       "      <td>-0.017773</td>\n",
       "      <td>0.001176</td>\n",
       "      <td>0.038064</td>\n",
       "      <td>0.022729</td>\n",
       "      <td>0.028600</td>\n",
       "      <td>-0.014486</td>\n",
       "      <td>-2.297261e-03</td>\n",
       "      <td>0.031745</td>\n",
       "      <td>-0.003532</td>\n",
       "      <td>...</td>\n",
       "      <td>0.001992</td>\n",
       "      <td>-0.006851</td>\n",
       "      <td>0.026391</td>\n",
       "      <td>0.031930</td>\n",
       "      <td>0.029665</td>\n",
       "      <td>1.000000</td>\n",
       "      <td>-0.006502</td>\n",
       "      <td>-0.014202</td>\n",
       "      <td>-0.031588</td>\n",
       "      <td>-0.021216</td>\n",
       "    </tr>\n",
       "    <tr>\n",
       "      <th>Month_Sold</th>\n",
       "      <td>-0.013660</td>\n",
       "      <td>0.030932</td>\n",
       "      <td>0.010178</td>\n",
       "      <td>0.001200</td>\n",
       "      <td>-0.003695</td>\n",
       "      <td>0.026564</td>\n",
       "      <td>0.053379</td>\n",
       "      <td>-5.155406e-02</td>\n",
       "      <td>-0.024867</td>\n",
       "      <td>0.007053</td>\n",
       "      <td>...</td>\n",
       "      <td>-0.021637</td>\n",
       "      <td>0.006895</td>\n",
       "      <td>-0.009247</td>\n",
       "      <td>0.023196</td>\n",
       "      <td>-0.033742</td>\n",
       "      <td>-0.006502</td>\n",
       "      <td>1.000000</td>\n",
       "      <td>0.042844</td>\n",
       "      <td>0.033509</td>\n",
       "      <td>0.046401</td>\n",
       "    </tr>\n",
       "    <tr>\n",
       "      <th>Sale_Type</th>\n",
       "      <td>0.015914</td>\n",
       "      <td>0.073767</td>\n",
       "      <td>0.009596</td>\n",
       "      <td>-0.013297</td>\n",
       "      <td>0.021556</td>\n",
       "      <td>-0.000442</td>\n",
       "      <td>-0.020414</td>\n",
       "      <td>5.827458e-02</td>\n",
       "      <td>0.011050</td>\n",
       "      <td>-0.057106</td>\n",
       "      <td>...</td>\n",
       "      <td>-0.020609</td>\n",
       "      <td>0.004003</td>\n",
       "      <td>-0.026146</td>\n",
       "      <td>-0.029723</td>\n",
       "      <td>-0.009917</td>\n",
       "      <td>-0.014202</td>\n",
       "      <td>0.042844</td>\n",
       "      <td>1.000000</td>\n",
       "      <td>0.232540</td>\n",
       "      <td>0.081037</td>\n",
       "    </tr>\n",
       "    <tr>\n",
       "      <th>Sale_Condition</th>\n",
       "      <td>0.004546</td>\n",
       "      <td>0.098937</td>\n",
       "      <td>0.017212</td>\n",
       "      <td>-0.016210</td>\n",
       "      <td>0.029713</td>\n",
       "      <td>-0.030480</td>\n",
       "      <td>0.027226</td>\n",
       "      <td>5.761491e-02</td>\n",
       "      <td>-0.007633</td>\n",
       "      <td>0.031110</td>\n",
       "      <td>...</td>\n",
       "      <td>0.052119</td>\n",
       "      <td>0.055776</td>\n",
       "      <td>0.000541</td>\n",
       "      <td>-0.014489</td>\n",
       "      <td>0.095814</td>\n",
       "      <td>-0.031588</td>\n",
       "      <td>0.033509</td>\n",
       "      <td>0.232540</td>\n",
       "      <td>1.000000</td>\n",
       "      <td>0.004474</td>\n",
       "    </tr>\n",
       "    <tr>\n",
       "      <th>Sale_Price</th>\n",
       "      <td>-0.084563</td>\n",
       "      <td>-0.183794</td>\n",
       "      <td>0.334992</td>\n",
       "      <td>0.263843</td>\n",
       "      <td>-0.041057</td>\n",
       "      <td>0.267618</td>\n",
       "      <td>0.072960</td>\n",
       "      <td>-1.432272e-02</td>\n",
       "      <td>0.092175</td>\n",
       "      <td>0.051091</td>\n",
       "      <td>...</td>\n",
       "      <td>-0.159849</td>\n",
       "      <td>-0.219611</td>\n",
       "      <td>-0.209054</td>\n",
       "      <td>0.111378</td>\n",
       "      <td>0.092389</td>\n",
       "      <td>-0.021216</td>\n",
       "      <td>0.046401</td>\n",
       "      <td>0.081037</td>\n",
       "      <td>0.004474</td>\n",
       "      <td>1.000000</td>\n",
       "    </tr>\n",
       "  </tbody>\n",
       "</table>\n",
       "<p>68 rows × 68 columns</p>\n",
       "</div>"
      ],
      "text/plain": [
       "                     Building_Class  Zoning_Class  Lot_Extent  Lot_Size  \\\n",
       "Building_Class             1.000000      0.280131   -0.357020 -0.139852   \n",
       "Zoning_Class               0.280131      1.000000   -0.240691 -0.164122   \n",
       "Lot_Extent                -0.357020     -0.240691    1.000000  0.306801   \n",
       "Lot_Size                  -0.139852     -0.164122    0.306801  1.000000   \n",
       "Road_Type                  0.024937      0.115491    0.037333  0.197129   \n",
       "...                             ...           ...         ...       ...   \n",
       "Miscellaneous_Value       -0.007738     -0.017773    0.001176  0.038064   \n",
       "Month_Sold                -0.013660      0.030932    0.010178  0.001200   \n",
       "Sale_Type                  0.015914      0.073767    0.009596 -0.013297   \n",
       "Sale_Condition             0.004546      0.098937    0.017212 -0.016210   \n",
       "Sale_Price                -0.084563     -0.183794    0.334992  0.263843   \n",
       "\n",
       "                     Road_Type  Property_Shape  Land_Outline  Utility_Type  \\\n",
       "Building_Class        0.024937       -0.115830     -0.025280 -2.286547e-02   \n",
       "Zoning_Class          0.115491       -0.188663      0.008481 -1.170991e-02   \n",
       "Lot_Extent            0.037333        0.197201      0.085636  2.937024e-17   \n",
       "Lot_Size              0.197129        0.315510      0.339008  1.012216e-02   \n",
       "Road_Type             1.000000        0.010099      0.103933 -1.682922e-03   \n",
       "...                        ...             ...           ...           ...   \n",
       "Miscellaneous_Value   0.022729        0.028600     -0.014486 -2.297261e-03   \n",
       "Month_Sold           -0.003695        0.026564      0.053379 -5.155406e-02   \n",
       "Sale_Type             0.021556       -0.000442     -0.020414  5.827458e-02   \n",
       "Sale_Condition        0.029713       -0.030480      0.027226  5.761491e-02   \n",
       "Sale_Price           -0.041057        0.267618      0.072960 -1.432272e-02   \n",
       "\n",
       "                     Lot_Configuration  Property_Slope  ...  Garage_Quality  \\\n",
       "Building_Class               -0.037909       -0.025814  ...        0.047708   \n",
       "Zoning_Class                 -0.083132       -0.019283  ...        0.096578   \n",
       "Lot_Extent                    0.050920        0.067637  ...       -0.082049   \n",
       "Lot_Size                      0.131091        0.436867  ...       -0.041943   \n",
       "Road_Type                    -0.006929        0.179353  ...        0.000759   \n",
       "...                                ...             ...  ...             ...   \n",
       "Miscellaneous_Value           0.031745       -0.003532  ...        0.001992   \n",
       "Month_Sold                   -0.024867        0.007053  ...       -0.021637   \n",
       "Sale_Type                     0.011050       -0.057106  ...       -0.020609   \n",
       "Sale_Condition               -0.007633        0.031110  ...        0.052119   \n",
       "Sale_Price                    0.092175        0.051091  ...       -0.159849   \n",
       "\n",
       "                     Garage_Condition  Pavedd_Drive  Screen_Lobby_Area  \\\n",
       "Building_Class               0.050869      0.025812          -0.026199   \n",
       "Zoning_Class                 0.093352      0.166174          -0.063862   \n",
       "Lot_Extent                  -0.081294     -0.067835           0.037727   \n",
       "Lot_Size                    -0.056324     -0.002975           0.043151   \n",
       "Road_Type                    0.003010      0.011236           0.033149   \n",
       "...                               ...           ...                ...   \n",
       "Miscellaneous_Value         -0.006851      0.026391           0.031930   \n",
       "Month_Sold                   0.006895     -0.009247           0.023196   \n",
       "Sale_Type                    0.004003     -0.026146          -0.029723   \n",
       "Sale_Condition               0.055776      0.000541          -0.014489   \n",
       "Sale_Price                  -0.219611     -0.209054           0.111378   \n",
       "\n",
       "                     Pool_Area  Miscellaneous_Value  Month_Sold  Sale_Type  \\\n",
       "Building_Class        0.008244            -0.007738   -0.013660   0.015914   \n",
       "Zoning_Class         -0.030725            -0.017773    0.030932   0.073767   \n",
       "Lot_Extent            0.180882             0.001176    0.010178   0.009596   \n",
       "Lot_Size              0.077670             0.038064    0.001200  -0.013297   \n",
       "Road_Type            -0.004416             0.022729   -0.003695   0.021556   \n",
       "...                        ...                  ...         ...        ...   \n",
       "Miscellaneous_Value   0.029665             1.000000   -0.006502  -0.014202   \n",
       "Month_Sold           -0.033742            -0.006502    1.000000   0.042844   \n",
       "Sale_Type            -0.009917            -0.014202    0.042844   1.000000   \n",
       "Sale_Condition        0.095814            -0.031588    0.033509   0.232540   \n",
       "Sale_Price            0.092389            -0.021216    0.046401   0.081037   \n",
       "\n",
       "                     Sale_Condition  Sale_Price  \n",
       "Building_Class             0.004546   -0.084563  \n",
       "Zoning_Class               0.098937   -0.183794  \n",
       "Lot_Extent                 0.017212    0.334992  \n",
       "Lot_Size                  -0.016210    0.263843  \n",
       "Road_Type                  0.029713   -0.041057  \n",
       "...                             ...         ...  \n",
       "Miscellaneous_Value       -0.031588   -0.021216  \n",
       "Month_Sold                 0.033509    0.046401  \n",
       "Sale_Type                  0.232540    0.081037  \n",
       "Sale_Condition             1.000000    0.004474  \n",
       "Sale_Price                 0.004474    1.000000  \n",
       "\n",
       "[68 rows x 68 columns]"
      ]
     },
     "execution_count": 19,
     "metadata": {},
     "output_type": "execute_result"
    }
   ],
   "source": [
    "data=train.corr()\n",
    "data"
   ]
  },
  {
   "cell_type": "code",
   "execution_count": 20,
   "id": "94f3196b",
   "metadata": {},
   "outputs": [
    {
     "data": {
      "text/plain": [
       "(1459, 68)"
      ]
     },
     "execution_count": 20,
     "metadata": {},
     "output_type": "execute_result"
    }
   ],
   "source": [
    "train.shape"
   ]
  },
  {
   "cell_type": "code",
   "execution_count": 21,
   "id": "8c9a2f18",
   "metadata": {},
   "outputs": [
    {
     "data": {
      "text/plain": [
       "((37,), (39,))"
      ]
     },
     "execution_count": 21,
     "metadata": {},
     "output_type": "execute_result"
    }
   ],
   "source": [
    "num.shape,cat.shape"
   ]
  },
  {
   "cell_type": "code",
   "execution_count": 22,
   "id": "fe1002b2",
   "metadata": {},
   "outputs": [
    {
     "data": {
      "text/plain": [
       "<AxesSubplot:>"
      ]
     },
     "execution_count": 22,
     "metadata": {},
     "output_type": "execute_result"
    },
    {
     "data": {
      "image/png": "[encoded data removed]",
      "text/plain": [
       "<Figure size 432x288 with 1 Axes>"
      ]
     },
     "metadata": {
      "needs_background": "light"
     },
     "output_type": "display_data"
    }
   ],
   "source": [
    "train.boxplot()"
   ]
  },
  {
   "cell_type": "markdown",
   "id": "75cc7532",
   "metadata": {},
   "source": [
    "# Outlier Treatment"
   ]
  },
  {
   "cell_type": "code",
   "execution_count": 23,
   "id": "5f81ab2b",
   "metadata": {},
   "outputs": [
    {
     "data": {
      "text/plain": [
       "<AxesSubplot:ylabel='Building_Class'>"
      ]
     },
     "execution_count": 23,
     "metadata": {},
     "output_type": "execute_result"
    },
    {
     "data": {
      "image/png": "[encoded data removed]",
      "text/plain": [
       "<Figure size 720x720 with 1 Axes>"
      ]
     },
     "metadata": {
      "needs_background": "light"
     },
     "output_type": "display_data"
    }
   ],
   "source": [
    "fig=plt.figure(figsize=(10,10))\n",
    "sns.boxplot(data=train,y=\"Building_Class\")"
   ]
  },
  {
   "cell_type": "code",
   "execution_count": 24,
   "id": "0f483750",
   "metadata": {},
   "outputs": [
    {
     "data": {
      "text/plain": [
       "<AxesSubplot:xlabel='Building_Class', ylabel='Density'>"
      ]
     },
     "execution_count": 24,
     "metadata": {},
     "output_type": "execute_result"
    },
    {
     "data": {
      "image/png": "[encoded data removed]",
      "text/plain": [
       "<Figure size 432x288 with 1 Axes>"
      ]
     },
     "metadata": {
      "needs_background": "light"
     },
     "output_type": "display_data"
    }
   ],
   "source": [
    "sns.distplot(train.Building_Class)"
   ]
  },
  {
   "cell_type": "code",
   "execution_count": 25,
   "id": "0147f5bb",
   "metadata": {},
   "outputs": [
    {
     "data": {
      "text/plain": [
       "50.0"
      ]
     },
     "execution_count": 25,
     "metadata": {},
     "output_type": "execute_result"
    }
   ],
   "source": [
    "IQR=train.Building_Class.quantile(0.75)-train.Building_Class.quantile(0.25)\n",
    "IQR"
   ]
  },
  {
   "cell_type": "code",
   "execution_count": 26,
   "id": "ef1399cb",
   "metadata": {},
   "outputs": [
    {
     "data": {
      "text/plain": [
       "(-130.0, 220.0)"
      ]
     },
     "execution_count": 26,
     "metadata": {},
     "output_type": "execute_result"
    }
   ],
   "source": [
    "ilb1=train.Building_Class.quantile(0.25)-(IQR*3)# for extreme boundary instead of 1.5 we can take 3\n",
    "iub1=train.Building_Class.quantile(0.75)+(IQR*3)\n",
    "ilb1,iub1"
   ]
  },
  {
   "cell_type": "code",
   "execution_count": 27,
   "id": "290066d3",
   "metadata": {},
   "outputs": [],
   "source": [
    "train.loc[train[\"Building_Class\"]>220.0,\"Building_Class\"]=220.0"
   ]
  },
  {
   "cell_type": "code",
   "execution_count": 28,
   "id": "16be424a",
   "metadata": {},
   "outputs": [
    {
     "data": {
      "text/plain": [
       "<AxesSubplot:ylabel='Grade_Living_Area'>"
      ]
     },
     "execution_count": 28,
     "metadata": {},
     "output_type": "execute_result"
    },
    {
     "data": {
      "image/png": "[encoded data removed]",
      "text/plain": [
       "<Figure size 720x720 with 1 Axes>"
      ]
     },
     "metadata": {
      "needs_background": "light"
     },
     "output_type": "display_data"
    }
   ],
   "source": [
    "fig=plt.figure(figsize=(10,10))\n",
    "sns.boxplot(data=train,y=\"Grade_Living_Area\")"
   ]
  },
  {
   "cell_type": "code",
   "execution_count": 29,
   "id": "5a9fc992",
   "metadata": {},
   "outputs": [
    {
     "data": {
      "text/plain": [
       "<AxesSubplot:xlabel='Grade_Living_Area', ylabel='Density'>"
      ]
     },
     "execution_count": 29,
     "metadata": {},
     "output_type": "execute_result"
    },
    {
     "data": {
      "image/png": "[encoded data removed]",
      "text/plain": [
       "<Figure size 432x288 with 1 Axes>"
      ]
     },
     "metadata": {
      "needs_background": "light"
     },
     "output_type": "display_data"
    }
   ],
   "source": [
    "sns.distplot(train.Grade_Living_Area)"
   ]
  },
  {
   "cell_type": "code",
   "execution_count": 30,
   "id": "f13ef34d",
   "metadata": {},
   "outputs": [
    {
     "data": {
      "text/plain": [
       "648.5"
      ]
     },
     "execution_count": 30,
     "metadata": {},
     "output_type": "execute_result"
    }
   ],
   "source": [
    "IQR=train.Grade_Living_Area.quantile(0.75)-train.Grade_Living_Area.quantile(0.25)\n",
    "IQR"
   ]
  },
  {
   "cell_type": "code",
   "execution_count": 31,
   "id": "f5cb6d0a",
   "metadata": {},
   "outputs": [
    {
     "data": {
      "text/plain": [
       "(-816.5, 3723.0)"
      ]
     },
     "execution_count": 31,
     "metadata": {},
     "output_type": "execute_result"
    }
   ],
   "source": [
    "ilb1=train.Grade_Living_Area.quantile(0.25)-(IQR*3)       # for extreme boundary instead of 1.5 we can take 3\n",
    "iub1=train.Grade_Living_Area.quantile(0.75)+(IQR*3)\n",
    "ilb1,iub1"
   ]
  },
  {
   "cell_type": "code",
   "execution_count": 32,
   "id": "941268e1",
   "metadata": {},
   "outputs": [],
   "source": [
    "train.loc[train[\"Grade_Living_Area\"]>3723.0,\"Grade_Living_Area\"]=3723.0"
   ]
  },
  {
   "cell_type": "code",
   "execution_count": 33,
   "id": "57471040",
   "metadata": {},
   "outputs": [
    {
     "data": {
      "text/plain": [
       "<AxesSubplot:xlabel='Grade_Living_Area', ylabel='Density'>"
      ]
     },
     "execution_count": 33,
     "metadata": {},
     "output_type": "execute_result"
    },
    {
     "data": {
      "image/png": "[encoded data removed]",
      "text/plain": [
       "<Figure size 432x288 with 1 Axes>"
      ]
     },
     "metadata": {
      "needs_background": "light"
     },
     "output_type": "display_data"
    }
   ],
   "source": [
    "sns.distplot(train.Grade_Living_Area)"
   ]
  },
  {
   "cell_type": "code",
   "execution_count": 34,
   "id": "4ab429f4",
   "metadata": {},
   "outputs": [
    {
     "data": {
      "text/plain": [
       "<AxesSubplot:ylabel='House_Condition'>"
      ]
     },
     "execution_count": 34,
     "metadata": {},
     "output_type": "execute_result"
    },
    {
     "data": {
      "image/png": "[encoded data removed]",
      "text/plain": [
       "<Figure size 720x720 with 1 Axes>"
      ]
     },
     "metadata": {
      "needs_background": "light"
     },
     "output_type": "display_data"
    }
   ],
   "source": [
    "fig=plt.figure(figsize=(10,10))\n",
    "sns.boxplot(data=train,y=\"House_Condition\")"
   ]
  },
  {
   "cell_type": "code",
   "execution_count": 35,
   "id": "35519b37",
   "metadata": {},
   "outputs": [
    {
     "data": {
      "text/plain": [
       "<AxesSubplot:xlabel='House_Condition', ylabel='Density'>"
      ]
     },
     "execution_count": 35,
     "metadata": {},
     "output_type": "execute_result"
    },
    {
     "data": {
      "image/png": "[encoded data removed]",
      "text/plain": [
       "<Figure size 432x288 with 1 Axes>"
      ]
     },
     "metadata": {
      "needs_background": "light"
     },
     "output_type": "display_data"
    }
   ],
   "source": [
    "sns.distplot(train.House_Condition)"
   ]
  },
  {
   "cell_type": "code",
   "execution_count": 36,
   "id": "c1e93d0a",
   "metadata": {},
   "outputs": [
    {
     "data": {
      "text/plain": [
       "1.0"
      ]
     },
     "execution_count": 36,
     "metadata": {},
     "output_type": "execute_result"
    }
   ],
   "source": [
    "IQR=train.House_Condition.quantile(0.75)-train.House_Condition.quantile(0.25)\n",
    "IQR"
   ]
  },
  {
   "cell_type": "code",
   "execution_count": 37,
   "id": "8247bba7",
   "metadata": {},
   "outputs": [
    {
     "data": {
      "text/plain": [
       "(2.0, 9.0)"
      ]
     },
     "execution_count": 37,
     "metadata": {},
     "output_type": "execute_result"
    }
   ],
   "source": [
    "ilb1=train.House_Condition.quantile(0.25)-(IQR*3)# for extreme boundary instead of 1.5 we can take 3\n",
    "iub1=train.House_Condition.quantile(0.75)+(IQR*3)\n",
    "ilb1,iub1"
   ]
  },
  {
   "cell_type": "code",
   "execution_count": 38,
   "id": "afa1f1bc",
   "metadata": {},
   "outputs": [],
   "source": [
    "train.loc[train[\"Grade_Living_Area\"]>9.0,\"Grade_Living_Area\"]=9.0\n",
    "train.loc[train[\"Grade_Living_Area\"]>2.0,\"Grade_Living_Area\"]=2.0"
   ]
  },
  {
   "cell_type": "code",
   "execution_count": 39,
   "id": "13741793",
   "metadata": {},
   "outputs": [
    {
     "data": {
      "text/plain": [
       "<AxesSubplot:ylabel='Construction_Year'>"
      ]
     },
     "execution_count": 39,
     "metadata": {},
     "output_type": "execute_result"
    },
    {
     "data": {
      "image/png": "[encoded data removed]",
      "text/plain": [
       "<Figure size 720x720 with 1 Axes>"
      ]
     },
     "metadata": {
      "needs_background": "light"
     },
     "output_type": "display_data"
    }
   ],
   "source": [
    "fig=plt.figure(figsize=(10,10))\n",
    "sns.boxplot(data=train,y=\"Construction_Year\")"
   ]
  },
  {
   "cell_type": "code",
   "execution_count": 40,
   "id": "3a5b3b66",
   "metadata": {},
   "outputs": [
    {
     "data": {
      "text/plain": [
       "<AxesSubplot:xlabel='Construction_Year', ylabel='Density'>"
      ]
     },
     "execution_count": 40,
     "metadata": {},
     "output_type": "execute_result"
    },
    {
     "data": {
      "image/png": "[encoded data removed]",
      "text/plain": [
       "<Figure size 432x288 with 1 Axes>"
      ]
     },
     "metadata": {
      "needs_background": "light"
     },
     "output_type": "display_data"
    }
   ],
   "source": [
    "sns.distplot(train.Construction_Year)"
   ]
  },
  {
   "cell_type": "code",
   "execution_count": 41,
   "id": "f94e4042",
   "metadata": {},
   "outputs": [
    {
     "data": {
      "text/plain": [
       "46.0"
      ]
     },
     "execution_count": 41,
     "metadata": {},
     "output_type": "execute_result"
    }
   ],
   "source": [
    "IQR=train.Construction_Year.quantile(0.75)-train.Construction_Year.quantile(0.25)\n",
    "IQR"
   ]
  },
  {
   "cell_type": "code",
   "execution_count": 42,
   "id": "f064d347",
   "metadata": {},
   "outputs": [
    {
     "data": {
      "text/plain": [
       "(1816.0, 2138.0)"
      ]
     },
     "execution_count": 42,
     "metadata": {},
     "output_type": "execute_result"
    }
   ],
   "source": [
    "ilb1=train.Construction_Year.quantile(0.25)-(IQR*3)    # for extreme boundary instead of 1.5 we can take 3\n",
    "iub1=train.Construction_Year.quantile(0.75)+(IQR*3)\n",
    "ilb1,iub1"
   ]
  },
  {
   "cell_type": "code",
   "execution_count": 43,
   "id": "5e2cc603",
   "metadata": {},
   "outputs": [],
   "source": [
    "train.loc[train[\"Construction_Year\"]>1816.0,\"Construction_Year\"]=1816.0"
   ]
  },
  {
   "cell_type": "code",
   "execution_count": 44,
   "id": "7319b6cc",
   "metadata": {},
   "outputs": [
    {
     "data": {
      "text/plain": [
       "<AxesSubplot:xlabel='Construction_Year', ylabel='Density'>"
      ]
     },
     "execution_count": 44,
     "metadata": {},
     "output_type": "execute_result"
    },
    {
     "data": {
      "image/png": "[encoded data removed]",
      "text/plain": [
       "<Figure size 432x288 with 1 Axes>"
      ]
     },
     "metadata": {
      "needs_background": "light"
     },
     "output_type": "display_data"
    }
   ],
   "source": [
    "sns.distplot(train.Construction_Year)"
   ]
  },
  {
   "cell_type": "code",
   "execution_count": 45,
   "id": "8850694f",
   "metadata": {},
   "outputs": [
    {
     "data": {
      "text/plain": [
       "<AxesSubplot:ylabel='Brick_Veneer_Area'>"
      ]
     },
     "execution_count": 45,
     "metadata": {},
     "output_type": "execute_result"
    },
    {
     "data": {
      "image/png": "[encoded data removed]",
      "text/plain": [
       "<Figure size 720x720 with 1 Axes>"
      ]
     },
     "metadata": {
      "needs_background": "light"
     },
     "output_type": "display_data"
    }
   ],
   "source": [
    "fig=plt.figure(figsize=(10,10))\n",
    "sns.boxplot(data=train,y=\"Brick_Veneer_Area\")"
   ]
  },
  {
   "cell_type": "code",
   "execution_count": 46,
   "id": "920fddef",
   "metadata": {},
   "outputs": [
    {
     "data": {
      "text/plain": [
       "<AxesSubplot:xlabel='Brick_Veneer_Area', ylabel='Density'>"
      ]
     },
     "execution_count": 46,
     "metadata": {},
     "output_type": "execute_result"
    },
    {
     "data": {
      "image/png": "[encoded data removed]",
      "text/plain": [
       "<Figure size 432x288 with 1 Axes>"
      ]
     },
     "metadata": {
      "needs_background": "light"
     },
     "output_type": "display_data"
    }
   ],
   "source": [
    " sns.distplot(train.Brick_Veneer_Area)"
   ]
  },
  {
   "cell_type": "code",
   "execution_count": 47,
   "id": "8f334810",
   "metadata": {},
   "outputs": [
    {
     "data": {
      "text/plain": [
       "164.5"
      ]
     },
     "execution_count": 47,
     "metadata": {},
     "output_type": "execute_result"
    }
   ],
   "source": [
    "IQR=train.Brick_Veneer_Area.quantile(0.75)-train.Brick_Veneer_Area.quantile(0.25)\n",
    "IQR"
   ]
  },
  {
   "cell_type": "code",
   "execution_count": 48,
   "id": "3486bc0a",
   "metadata": {},
   "outputs": [
    {
     "data": {
      "text/plain": [
       "(-493.5, 658.0)"
      ]
     },
     "execution_count": 48,
     "metadata": {},
     "output_type": "execute_result"
    }
   ],
   "source": [
    "ilb1=train.Brick_Veneer_Area.quantile(0.25)-(IQR*3)# for extreme boundary instead of 1.5 we can take 3\n",
    "iub1=train.Brick_Veneer_Area.quantile(0.75)+(IQR*3)\n",
    "ilb1,iub1"
   ]
  },
  {
   "cell_type": "code",
   "execution_count": 49,
   "id": "644c252c",
   "metadata": {},
   "outputs": [],
   "source": [
    "train.loc[train[\"Brick_Veneer_Area\"]>658.0,\"Brick_Veneer_Area\"]=658.0"
   ]
  },
  {
   "cell_type": "code",
   "execution_count": 50,
   "id": "6f264389",
   "metadata": {},
   "outputs": [
    {
     "data": {
      "text/plain": [
       "<AxesSubplot:xlabel='Brick_Veneer_Area', ylabel='Density'>"
      ]
     },
     "execution_count": 50,
     "metadata": {},
     "output_type": "execute_result"
    },
    {
     "data": {
      "image/png": "[encoded data removed]",
      "text/plain": [
       "<Figure size 432x288 with 1 Axes>"
      ]
     },
     "metadata": {
      "needs_background": "light"
     },
     "output_type": "display_data"
    }
   ],
   "source": [
    "sns.distplot(train.Brick_Veneer_Area)"
   ]
  },
  {
   "cell_type": "code",
   "execution_count": 51,
   "id": "dbb740a1",
   "metadata": {},
   "outputs": [
    {
     "data": {
      "text/plain": [
       "<AxesSubplot:ylabel='Total_Basement_Area'>"
      ]
     },
     "execution_count": 51,
     "metadata": {},
     "output_type": "execute_result"
    },
    {
     "data": {
      "image/png": "[encoded data removed]",
      "text/plain": [
       "<Figure size 720x720 with 1 Axes>"
      ]
     },
     "metadata": {
      "needs_background": "light"
     },
     "output_type": "display_data"
    }
   ],
   "source": [
    "fig=plt.figure(figsize=(10,10))\n",
    "sns.boxplot(data=train,y=\"Total_Basement_Area\")"
   ]
  },
  {
   "cell_type": "code",
   "execution_count": 52,
   "id": "c80e7385",
   "metadata": {},
   "outputs": [
    {
     "data": {
      "text/plain": [
       "<AxesSubplot:xlabel='Total_Basement_Area', ylabel='Density'>"
      ]
     },
     "execution_count": 52,
     "metadata": {},
     "output_type": "execute_result"
    },
    {
     "data": {
      "image/png": "[encoded data removed]",
      "text/plain": [
       "<Figure size 432x288 with 1 Axes>"
      ]
     },
     "metadata": {
      "needs_background": "light"
     },
     "output_type": "display_data"
    }
   ],
   "source": [
    "sns.distplot(train.Total_Basement_Area)"
   ]
  },
  {
   "cell_type": "code",
   "execution_count": 53,
   "id": "e26541d4",
   "metadata": {},
   "outputs": [
    {
     "data": {
      "text/plain": [
       "503.0"
      ]
     },
     "execution_count": 53,
     "metadata": {},
     "output_type": "execute_result"
    }
   ],
   "source": [
    "IQR=train.Total_Basement_Area.quantile(0.75)-train.Total_Basement_Area.quantile(0.25)\n",
    "IQR"
   ]
  },
  {
   "cell_type": "code",
   "execution_count": 54,
   "id": "8d801d56",
   "metadata": {},
   "outputs": [
    {
     "data": {
      "text/plain": [
       "(-713.5, 2807.5)"
      ]
     },
     "execution_count": 54,
     "metadata": {},
     "output_type": "execute_result"
    }
   ],
   "source": [
    "ilb1=train.Total_Basement_Area.quantile(0.25)-(IQR*3)# for extreme boundary instead of 1.5 we can take 3\n",
    "iub1=train.Total_Basement_Area.quantile(0.75)+(IQR*3)\n",
    "ilb1,iub1"
   ]
  },
  {
   "cell_type": "code",
   "execution_count": 55,
   "id": "032d68bc",
   "metadata": {},
   "outputs": [],
   "source": [
    "train.loc[train[\"Total_Basement_Area\"]> 2807.5,\"Total_Basement_Area\"]= 2807.5"
   ]
  },
  {
   "cell_type": "code",
   "execution_count": 56,
   "id": "66bd94c9",
   "metadata": {},
   "outputs": [
    {
     "data": {
      "text/plain": [
       "<AxesSubplot:xlabel='Total_Basement_Area', ylabel='Density'>"
      ]
     },
     "execution_count": 56,
     "metadata": {},
     "output_type": "execute_result"
    },
    {
     "data": {
      "image/png": "[encoded data removed]",
      "text/plain": [
       "<Figure size 432x288 with 1 Axes>"
      ]
     },
     "metadata": {
      "needs_background": "light"
     },
     "output_type": "display_data"
    }
   ],
   "source": [
    "sns.distplot(train.Total_Basement_Area)"
   ]
  },
  {
   "cell_type": "code",
   "execution_count": 57,
   "id": "96297a29",
   "metadata": {},
   "outputs": [
    {
     "data": {
      "text/plain": [
       "<AxesSubplot:ylabel='First_Floor_Area'>"
      ]
     },
     "execution_count": 57,
     "metadata": {},
     "output_type": "execute_result"
    },
    {
     "data": {
      "image/png": "[encoded data removed]",
      "text/plain": [
       "<Figure size 720x720 with 1 Axes>"
      ]
     },
     "metadata": {
      "needs_background": "light"
     },
     "output_type": "display_data"
    }
   ],
   "source": [
    "fig=plt.figure(figsize=(10,10))\n",
    "sns.boxplot(data=train,y=\"First_Floor_Area\")"
   ]
  },
  {
   "cell_type": "code",
   "execution_count": 58,
   "id": "e6f095f4",
   "metadata": {},
   "outputs": [
    {
     "data": {
      "text/plain": [
       "<AxesSubplot:xlabel='First_Floor_Area', ylabel='Density'>"
      ]
     },
     "execution_count": 58,
     "metadata": {},
     "output_type": "execute_result"
    },
    {
     "data": {
      "image/png": "[encoded data removed]",
      "text/plain": [
       "<Figure size 432x288 with 1 Axes>"
      ]
     },
     "metadata": {
      "needs_background": "light"
     },
     "output_type": "display_data"
    }
   ],
   "source": [
    "sns.distplot(train.First_Floor_Area)"
   ]
  },
  {
   "cell_type": "code",
   "execution_count": 59,
   "id": "c067be2f",
   "metadata": {},
   "outputs": [
    {
     "data": {
      "text/plain": [
       "509.5"
      ]
     },
     "execution_count": 59,
     "metadata": {},
     "output_type": "execute_result"
    }
   ],
   "source": [
    "IQR=train.First_Floor_Area.quantile(0.75)-train.First_Floor_Area.quantile(0.25)\n",
    "IQR"
   ]
  },
  {
   "cell_type": "code",
   "execution_count": 60,
   "id": "c121f25c",
   "metadata": {},
   "outputs": [
    {
     "data": {
      "text/plain": [
       "(-646.5, 2920.0)"
      ]
     },
     "execution_count": 60,
     "metadata": {},
     "output_type": "execute_result"
    }
   ],
   "source": [
    "ilb1=train.First_Floor_Area.quantile(0.25)-(IQR*3)# for extreme boundary instead of 1.5 we can take 3\n",
    "iub1=train.First_Floor_Area.quantile(0.75)+(IQR*3)\n",
    "ilb1,iub1"
   ]
  },
  {
   "cell_type": "code",
   "execution_count": 61,
   "id": "ef4c5e00",
   "metadata": {},
   "outputs": [],
   "source": [
    "train.loc[train[\"First_Floor_Area\"]> 2920.0,\"First_Floor_Area\"]= 2920.0"
   ]
  },
  {
   "cell_type": "code",
   "execution_count": 62,
   "id": "7ec2a4e2",
   "metadata": {},
   "outputs": [
    {
     "data": {
      "text/plain": [
       "<AxesSubplot:xlabel='First_Floor_Area', ylabel='Density'>"
      ]
     },
     "execution_count": 62,
     "metadata": {},
     "output_type": "execute_result"
    },
    {
     "data": {
      "image/png": "[encoded data removed]",
      "text/plain": [
       "<Figure size 432x288 with 1 Axes>"
      ]
     },
     "metadata": {
      "needs_background": "light"
     },
     "output_type": "display_data"
    }
   ],
   "source": [
    "sns.distplot(train.First_Floor_Area)"
   ]
  },
  {
   "cell_type": "code",
   "execution_count": 63,
   "id": "14811841",
   "metadata": {},
   "outputs": [
    {
     "data": {
      "text/plain": [
       "<AxesSubplot:ylabel='Rooms_Above_Grade'>"
      ]
     },
     "execution_count": 63,
     "metadata": {},
     "output_type": "execute_result"
    },
    {
     "data": {
      "image/png": "[encoded data removed]",
      "text/plain": [
       "<Figure size 720x720 with 1 Axes>"
      ]
     },
     "metadata": {
      "needs_background": "light"
     },
     "output_type": "display_data"
    }
   ],
   "source": [
    "fig=plt.figure(figsize=(10,10))\n",
    "sns.boxplot(data=train,y=\"Rooms_Above_Grade\")"
   ]
  },
  {
   "cell_type": "code",
   "execution_count": 64,
   "id": "3d63b4b3",
   "metadata": {},
   "outputs": [
    {
     "data": {
      "text/plain": [
       "<AxesSubplot:xlabel='Rooms_Above_Grade', ylabel='Density'>"
      ]
     },
     "execution_count": 64,
     "metadata": {},
     "output_type": "execute_result"
    },
    {
     "data": {
      "image/png": "[encoded data removed]",
      "text/plain": [
       "<Figure size 432x288 with 1 Axes>"
      ]
     },
     "metadata": {
      "needs_background": "light"
     },
     "output_type": "display_data"
    }
   ],
   "source": [
    "sns.distplot(train.Rooms_Above_Grade)"
   ]
  },
  {
   "cell_type": "code",
   "execution_count": 65,
   "id": "bda73470",
   "metadata": {},
   "outputs": [
    {
     "data": {
      "text/plain": [
       "2.0"
      ]
     },
     "execution_count": 65,
     "metadata": {},
     "output_type": "execute_result"
    }
   ],
   "source": [
    "IQR=train.Rooms_Above_Grade.quantile(0.75)-train.Rooms_Above_Grade.quantile(0.25)\n",
    "IQR"
   ]
  },
  {
   "cell_type": "code",
   "execution_count": 66,
   "id": "aaa1cace",
   "metadata": {},
   "outputs": [
    {
     "data": {
      "text/plain": [
       "(-1.0, 13.0)"
      ]
     },
     "execution_count": 66,
     "metadata": {},
     "output_type": "execute_result"
    }
   ],
   "source": [
    "ilb1=train.Rooms_Above_Grade.quantile(0.25)-(IQR*3)# for extreme boundary instead of 1.5 we can take 3\n",
    "iub1=train.Rooms_Above_Grade.quantile(0.75)+(IQR*3)\n",
    "ilb1,iub1"
   ]
  },
  {
   "cell_type": "code",
   "execution_count": 67,
   "id": "91d12ce6",
   "metadata": {},
   "outputs": [],
   "source": [
    "train.loc[train[\"Rooms_Above_Grade\"]> 13.0,\"Rooms_Above_Grade\"]= 13.0"
   ]
  },
  {
   "cell_type": "code",
   "execution_count": 68,
   "id": "54102184",
   "metadata": {},
   "outputs": [
    {
     "data": {
      "text/plain": [
       "<AxesSubplot:ylabel='Sale_Price'>"
      ]
     },
     "execution_count": 68,
     "metadata": {},
     "output_type": "execute_result"
    },
    {
     "data": {
      "image/png": "[encoded data removed]",
      "text/plain": [
       "<Figure size 720x720 with 1 Axes>"
      ]
     },
     "metadata": {
      "needs_background": "light"
     },
     "output_type": "display_data"
    }
   ],
   "source": [
    "fig=plt.figure(figsize=(10,10))\n",
    "sns.boxplot(data=train,y=\"Sale_Price\")"
   ]
  },
  {
   "cell_type": "code",
   "execution_count": 69,
   "id": "3401eab2",
   "metadata": {},
   "outputs": [
    {
     "data": {
      "text/plain": [
       "<AxesSubplot:xlabel='Sale_Price', ylabel='Density'>"
      ]
     },
     "execution_count": 69,
     "metadata": {},
     "output_type": "execute_result"
    },
    {
     "data": {
      "image/png": "[encoded data removed]",
      "text/plain": [
       "<Figure size 432x288 with 1 Axes>"
      ]
     },
     "metadata": {
      "needs_background": "light"
     },
     "output_type": "display_data"
    }
   ],
   "source": [
    "sns.distplot(train.Sale_Price)"
   ]
  },
  {
   "cell_type": "code",
   "execution_count": 70,
   "id": "bfe038ff",
   "metadata": {},
   "outputs": [
    {
     "data": {
      "text/plain": [
       "84050.0"
      ]
     },
     "execution_count": 70,
     "metadata": {},
     "output_type": "execute_result"
    }
   ],
   "source": [
    "IQR=train.Sale_Price.quantile(0.75)-train.Sale_Price.quantile(0.25)\n",
    "IQR"
   ]
  },
  {
   "cell_type": "code",
   "execution_count": 71,
   "id": "29a2cc26",
   "metadata": {},
   "outputs": [
    {
     "data": {
      "text/plain": [
       "(-122200.0, 466150.0)"
      ]
     },
     "execution_count": 71,
     "metadata": {},
     "output_type": "execute_result"
    }
   ],
   "source": [
    "ilb1=train.Sale_Price.quantile(0.25)-(IQR*3)# for extreme boundary instead of 1.5 we can take 3\n",
    "iub1=train.Sale_Price.quantile(0.75)+(IQR*3)\n",
    "ilb1,iub1"
   ]
  },
  {
   "cell_type": "code",
   "execution_count": 72,
   "id": "7a115068",
   "metadata": {},
   "outputs": [],
   "source": [
    "train.loc[train[\"Sale_Price\"]> 466150.0,\"Sale_Price\"]= 466150.0"
   ]
  },
  {
   "cell_type": "code",
   "execution_count": 73,
   "id": "e540cebd",
   "metadata": {},
   "outputs": [
    {
     "data": {
      "text/plain": [
       "<AxesSubplot:xlabel='Sale_Price', ylabel='Density'>"
      ]
     },
     "execution_count": 73,
     "metadata": {},
     "output_type": "execute_result"
    },
    {
     "data": {
      "image/png": "[encoded data removed]",
      "text/plain": [
       "<Figure size 432x288 with 1 Axes>"
      ]
     },
     "metadata": {
      "needs_background": "light"
     },
     "output_type": "display_data"
    }
   ],
   "source": [
    "sns.distplot(train.Sale_Price)"
   ]
  },
  {
   "cell_type": "code",
   "execution_count": 74,
   "id": "362ce11b",
   "metadata": {},
   "outputs": [
    {
     "data": {
      "text/plain": [
       "(1459, 68)"
      ]
     },
     "execution_count": 74,
     "metadata": {},
     "output_type": "execute_result"
    }
   ],
   "source": [
    "train.shape"
   ]
  },
  {
   "cell_type": "markdown",
   "id": "6b22a635",
   "metadata": {},
   "source": [
    "Imported cleaned test file"
   ]
  },
  {
   "cell_type": "code",
   "execution_count": 76,
   "id": "1640ab9b",
   "metadata": {},
   "outputs": [
    {
     "data": {
      "text/html": [
       "<div>\n",
       "<style scoped>\n",
       "    .dataframe tbody tr th:only-of-type {\n",
       "        vertical-align: middle;\n",
       "    }\n",
       "\n",
       "    .dataframe tbody tr th {\n",
       "        vertical-align: top;\n",
       "    }\n",
       "\n",
       "    .dataframe thead th {\n",
       "        text-align: right;\n",
       "    }\n",
       "</style>\n",
       "<table border=\"1\" class=\"dataframe\">\n",
       "  <thead>\n",
       "    <tr style=\"text-align: right;\">\n",
       "      <th></th>\n",
       "      <th>Building_Class</th>\n",
       "      <th>Zoning_Class</th>\n",
       "      <th>Lot_Extent</th>\n",
       "      <th>Lot_Size</th>\n",
       "      <th>Road_Type</th>\n",
       "      <th>Property_Shape</th>\n",
       "      <th>Land_Outline</th>\n",
       "      <th>Utility_Type</th>\n",
       "      <th>Lot_Configuration</th>\n",
       "      <th>Property_Slope</th>\n",
       "      <th>...</th>\n",
       "      <th>Garage_Size</th>\n",
       "      <th>Garage_Quality</th>\n",
       "      <th>Garage_Condition</th>\n",
       "      <th>Pavedd_Drive</th>\n",
       "      <th>Screen_Lobby_Area</th>\n",
       "      <th>Pool_Area</th>\n",
       "      <th>Miscellaneous_Value</th>\n",
       "      <th>Month_Sold</th>\n",
       "      <th>Sale_Type</th>\n",
       "      <th>Sale_Condition</th>\n",
       "    </tr>\n",
       "  </thead>\n",
       "  <tbody>\n",
       "    <tr>\n",
       "      <th>0</th>\n",
       "      <td>20</td>\n",
       "      <td>3</td>\n",
       "      <td>80.0</td>\n",
       "      <td>16104.819760</td>\n",
       "      <td>0</td>\n",
       "      <td>0</td>\n",
       "      <td>0</td>\n",
       "      <td>0</td>\n",
       "      <td>0</td>\n",
       "      <td>0</td>\n",
       "      <td>...</td>\n",
       "      <td>1.0</td>\n",
       "      <td>0</td>\n",
       "      <td>0</td>\n",
       "      <td>0</td>\n",
       "      <td>120</td>\n",
       "      <td>0</td>\n",
       "      <td>0</td>\n",
       "      <td>6</td>\n",
       "      <td>0</td>\n",
       "      <td>0</td>\n",
       "    </tr>\n",
       "    <tr>\n",
       "      <th>1</th>\n",
       "      <td>20</td>\n",
       "      <td>0</td>\n",
       "      <td>81.0</td>\n",
       "      <td>15639.150810</td>\n",
       "      <td>0</td>\n",
       "      <td>1</td>\n",
       "      <td>0</td>\n",
       "      <td>0</td>\n",
       "      <td>1</td>\n",
       "      <td>0</td>\n",
       "      <td>...</td>\n",
       "      <td>1.0</td>\n",
       "      <td>0</td>\n",
       "      <td>0</td>\n",
       "      <td>0</td>\n",
       "      <td>0</td>\n",
       "      <td>0</td>\n",
       "      <td>12500</td>\n",
       "      <td>6</td>\n",
       "      <td>0</td>\n",
       "      <td>0</td>\n",
       "    </tr>\n",
       "    <tr>\n",
       "      <th>2</th>\n",
       "      <td>60</td>\n",
       "      <td>0</td>\n",
       "      <td>74.0</td>\n",
       "      <td>3849.428920</td>\n",
       "      <td>0</td>\n",
       "      <td>1</td>\n",
       "      <td>0</td>\n",
       "      <td>0</td>\n",
       "      <td>0</td>\n",
       "      <td>0</td>\n",
       "      <td>...</td>\n",
       "      <td>2.0</td>\n",
       "      <td>0</td>\n",
       "      <td>0</td>\n",
       "      <td>0</td>\n",
       "      <td>0</td>\n",
       "      <td>0</td>\n",
       "      <td>0</td>\n",
       "      <td>3</td>\n",
       "      <td>0</td>\n",
       "      <td>0</td>\n",
       "    </tr>\n",
       "    <tr>\n",
       "      <th>3</th>\n",
       "      <td>60</td>\n",
       "      <td>0</td>\n",
       "      <td>78.0</td>\n",
       "      <td>4955.447942</td>\n",
       "      <td>0</td>\n",
       "      <td>1</td>\n",
       "      <td>0</td>\n",
       "      <td>0</td>\n",
       "      <td>0</td>\n",
       "      <td>0</td>\n",
       "      <td>...</td>\n",
       "      <td>2.0</td>\n",
       "      <td>0</td>\n",
       "      <td>0</td>\n",
       "      <td>0</td>\n",
       "      <td>0</td>\n",
       "      <td>0</td>\n",
       "      <td>0</td>\n",
       "      <td>6</td>\n",
       "      <td>0</td>\n",
       "      <td>0</td>\n",
       "    </tr>\n",
       "    <tr>\n",
       "      <th>4</th>\n",
       "      <td>120</td>\n",
       "      <td>0</td>\n",
       "      <td>43.0</td>\n",
       "      <td>3046.604942</td>\n",
       "      <td>0</td>\n",
       "      <td>1</td>\n",
       "      <td>2</td>\n",
       "      <td>0</td>\n",
       "      <td>0</td>\n",
       "      <td>0</td>\n",
       "      <td>...</td>\n",
       "      <td>2.0</td>\n",
       "      <td>0</td>\n",
       "      <td>0</td>\n",
       "      <td>0</td>\n",
       "      <td>144</td>\n",
       "      <td>0</td>\n",
       "      <td>0</td>\n",
       "      <td>1</td>\n",
       "      <td>0</td>\n",
       "      <td>0</td>\n",
       "    </tr>\n",
       "    <tr>\n",
       "      <th>...</th>\n",
       "      <td>...</td>\n",
       "      <td>...</td>\n",
       "      <td>...</td>\n",
       "      <td>...</td>\n",
       "      <td>...</td>\n",
       "      <td>...</td>\n",
       "      <td>...</td>\n",
       "      <td>...</td>\n",
       "      <td>...</td>\n",
       "      <td>...</td>\n",
       "      <td>...</td>\n",
       "      <td>...</td>\n",
       "      <td>...</td>\n",
       "      <td>...</td>\n",
       "      <td>...</td>\n",
       "      <td>...</td>\n",
       "      <td>...</td>\n",
       "      <td>...</td>\n",
       "      <td>...</td>\n",
       "      <td>...</td>\n",
       "      <td>...</td>\n",
       "    </tr>\n",
       "    <tr>\n",
       "      <th>1454</th>\n",
       "      <td>160</td>\n",
       "      <td>1</td>\n",
       "      <td>21.0</td>\n",
       "      <td>14584.838440</td>\n",
       "      <td>0</td>\n",
       "      <td>0</td>\n",
       "      <td>0</td>\n",
       "      <td>0</td>\n",
       "      <td>0</td>\n",
       "      <td>0</td>\n",
       "      <td>...</td>\n",
       "      <td>0.0</td>\n",
       "      <td>1</td>\n",
       "      <td>1</td>\n",
       "      <td>0</td>\n",
       "      <td>0</td>\n",
       "      <td>0</td>\n",
       "      <td>0</td>\n",
       "      <td>6</td>\n",
       "      <td>0</td>\n",
       "      <td>1</td>\n",
       "    </tr>\n",
       "    <tr>\n",
       "      <th>1455</th>\n",
       "      <td>160</td>\n",
       "      <td>1</td>\n",
       "      <td>21.0</td>\n",
       "      <td>8072.991379</td>\n",
       "      <td>0</td>\n",
       "      <td>0</td>\n",
       "      <td>0</td>\n",
       "      <td>0</td>\n",
       "      <td>0</td>\n",
       "      <td>0</td>\n",
       "      <td>...</td>\n",
       "      <td>1.0</td>\n",
       "      <td>0</td>\n",
       "      <td>0</td>\n",
       "      <td>0</td>\n",
       "      <td>0</td>\n",
       "      <td>0</td>\n",
       "      <td>0</td>\n",
       "      <td>4</td>\n",
       "      <td>0</td>\n",
       "      <td>5</td>\n",
       "    </tr>\n",
       "    <tr>\n",
       "      <th>1456</th>\n",
       "      <td>20</td>\n",
       "      <td>0</td>\n",
       "      <td>160.0</td>\n",
       "      <td>7367.775348</td>\n",
       "      <td>0</td>\n",
       "      <td>0</td>\n",
       "      <td>0</td>\n",
       "      <td>0</td>\n",
       "      <td>0</td>\n",
       "      <td>0</td>\n",
       "      <td>...</td>\n",
       "      <td>2.0</td>\n",
       "      <td>0</td>\n",
       "      <td>0</td>\n",
       "      <td>0</td>\n",
       "      <td>0</td>\n",
       "      <td>0</td>\n",
       "      <td>0</td>\n",
       "      <td>9</td>\n",
       "      <td>0</td>\n",
       "      <td>3</td>\n",
       "    </tr>\n",
       "    <tr>\n",
       "      <th>1457</th>\n",
       "      <td>85</td>\n",
       "      <td>0</td>\n",
       "      <td>62.0</td>\n",
       "      <td>2203.135444</td>\n",
       "      <td>0</td>\n",
       "      <td>0</td>\n",
       "      <td>0</td>\n",
       "      <td>0</td>\n",
       "      <td>0</td>\n",
       "      <td>0</td>\n",
       "      <td>...</td>\n",
       "      <td>0.0</td>\n",
       "      <td>1</td>\n",
       "      <td>1</td>\n",
       "      <td>0</td>\n",
       "      <td>0</td>\n",
       "      <td>0</td>\n",
       "      <td>700</td>\n",
       "      <td>7</td>\n",
       "      <td>0</td>\n",
       "      <td>0</td>\n",
       "    </tr>\n",
       "    <tr>\n",
       "      <th>1458</th>\n",
       "      <td>60</td>\n",
       "      <td>0</td>\n",
       "      <td>74.0</td>\n",
       "      <td>6253.431852</td>\n",
       "      <td>0</td>\n",
       "      <td>0</td>\n",
       "      <td>0</td>\n",
       "      <td>0</td>\n",
       "      <td>0</td>\n",
       "      <td>1</td>\n",
       "      <td>...</td>\n",
       "      <td>3.0</td>\n",
       "      <td>0</td>\n",
       "      <td>0</td>\n",
       "      <td>0</td>\n",
       "      <td>0</td>\n",
       "      <td>0</td>\n",
       "      <td>0</td>\n",
       "      <td>11</td>\n",
       "      <td>0</td>\n",
       "      <td>0</td>\n",
       "    </tr>\n",
       "  </tbody>\n",
       "</table>\n",
       "<p>1459 rows × 66 columns</p>\n",
       "</div>"
      ],
      "text/plain": [
       "      Building_Class  Zoning_Class  Lot_Extent      Lot_Size  Road_Type  \\\n",
       "0                 20             3        80.0  16104.819760          0   \n",
       "1                 20             0        81.0  15639.150810          0   \n",
       "2                 60             0        74.0   3849.428920          0   \n",
       "3                 60             0        78.0   4955.447942          0   \n",
       "4                120             0        43.0   3046.604942          0   \n",
       "...              ...           ...         ...           ...        ...   \n",
       "1454             160             1        21.0  14584.838440          0   \n",
       "1455             160             1        21.0   8072.991379          0   \n",
       "1456              20             0       160.0   7367.775348          0   \n",
       "1457              85             0        62.0   2203.135444          0   \n",
       "1458              60             0        74.0   6253.431852          0   \n",
       "\n",
       "      Property_Shape  Land_Outline  Utility_Type  Lot_Configuration  \\\n",
       "0                  0             0             0                  0   \n",
       "1                  1             0             0                  1   \n",
       "2                  1             0             0                  0   \n",
       "3                  1             0             0                  0   \n",
       "4                  1             2             0                  0   \n",
       "...              ...           ...           ...                ...   \n",
       "1454               0             0             0                  0   \n",
       "1455               0             0             0                  0   \n",
       "1456               0             0             0                  0   \n",
       "1457               0             0             0                  0   \n",
       "1458               0             0             0                  0   \n",
       "\n",
       "      Property_Slope  ...  Garage_Size  Garage_Quality  Garage_Condition  \\\n",
       "0                  0  ...          1.0               0                 0   \n",
       "1                  0  ...          1.0               0                 0   \n",
       "2                  0  ...          2.0               0                 0   \n",
       "3                  0  ...          2.0               0                 0   \n",
       "4                  0  ...          2.0               0                 0   \n",
       "...              ...  ...          ...             ...               ...   \n",
       "1454               0  ...          0.0               1                 1   \n",
       "1455               0  ...          1.0               0                 0   \n",
       "1456               0  ...          2.0               0                 0   \n",
       "1457               0  ...          0.0               1                 1   \n",
       "1458               1  ...          3.0               0                 0   \n",
       "\n",
       "      Pavedd_Drive  Screen_Lobby_Area  Pool_Area  Miscellaneous_Value  \\\n",
       "0                0                120          0                    0   \n",
       "1                0                  0          0                12500   \n",
       "2                0                  0          0                    0   \n",
       "3                0                  0          0                    0   \n",
       "4                0                144          0                    0   \n",
       "...            ...                ...        ...                  ...   \n",
       "1454             0                  0          0                    0   \n",
       "1455             0                  0          0                    0   \n",
       "1456             0                  0          0                    0   \n",
       "1457             0                  0          0                  700   \n",
       "1458             0                  0          0                    0   \n",
       "\n",
       "      Month_Sold  Sale_Type  Sale_Condition  \n",
       "0              6          0               0  \n",
       "1              6          0               0  \n",
       "2              3          0               0  \n",
       "3              6          0               0  \n",
       "4              1          0               0  \n",
       "...          ...        ...             ...  \n",
       "1454           6          0               1  \n",
       "1455           4          0               5  \n",
       "1456           9          0               3  \n",
       "1457           7          0               0  \n",
       "1458          11          0               0  \n",
       "\n",
       "[1459 rows x 66 columns]"
      ]
     },
     "execution_count": 76,
     "metadata": {},
     "output_type": "execute_result"
    }
   ],
   "source": [
    "data1=pd.read_csv(\"cleaned_test1.csv\")\n",
    "data1"
   ]
  },
  {
   "cell_type": "code",
   "execution_count": 77,
   "id": "20d7fb43",
   "metadata": {},
   "outputs": [
    {
     "name": "stdout",
     "output_type": "stream",
     "text": [
      "<class 'pandas.core.frame.DataFrame'>\n",
      "RangeIndex: 1459 entries, 0 to 1458\n",
      "Data columns (total 66 columns):\n",
      " #   Column                     Non-Null Count  Dtype  \n",
      "---  ------                     --------------  -----  \n",
      " 0   Building_Class             1459 non-null   int64  \n",
      " 1   Zoning_Class               1459 non-null   int64  \n",
      " 2   Lot_Extent                 1459 non-null   float64\n",
      " 3   Lot_Size                   1459 non-null   float64\n",
      " 4   Road_Type                  1459 non-null   int64  \n",
      " 5   Property_Shape             1459 non-null   int64  \n",
      " 6   Land_Outline               1459 non-null   int64  \n",
      " 7   Utility_Type               1459 non-null   int64  \n",
      " 8   Lot_Configuration          1459 non-null   int64  \n",
      " 9   Property_Slope             1459 non-null   int64  \n",
      " 10  Neighborhood               1459 non-null   int64  \n",
      " 11  Condition1                 1459 non-null   int64  \n",
      " 12  Condition2                 1459 non-null   int64  \n",
      " 13  House_Type                 1459 non-null   int64  \n",
      " 14  House_Design               1459 non-null   int64  \n",
      " 15  Overall_Material           1459 non-null   int64  \n",
      " 16  House_Condition            1459 non-null   int64  \n",
      " 17  Construction_Year          1459 non-null   int64  \n",
      " 18  Remodel_Year               1459 non-null   int64  \n",
      " 19  Roof_Design                1459 non-null   int64  \n",
      " 20  Roof_Quality               1459 non-null   int64  \n",
      " 21  Exterior1st                1459 non-null   int64  \n",
      " 22  Exterior2nd                1459 non-null   int64  \n",
      " 23  Brick_Veneer_Type          1443 non-null   float64\n",
      " 24  Brick_Veneer_Area          1459 non-null   float64\n",
      " 25  Exterior_Material          1459 non-null   int64  \n",
      " 26  Exterior_Condition         1459 non-null   int64  \n",
      " 27  Foundation_Type            1459 non-null   int64  \n",
      " 28  Basement_Height            1459 non-null   int64  \n",
      " 29  Basement_Condition         1459 non-null   int64  \n",
      " 30  Exposure_Level             1459 non-null   int64  \n",
      " 31  BsmtFinType1               1459 non-null   int64  \n",
      " 32  BsmtFinSF1                 1459 non-null   float64\n",
      " 33  BsmtFinType2               1459 non-null   int64  \n",
      " 34  BsmtFinSF2                 1459 non-null   float64\n",
      " 35  BsmtUnfSF                  1459 non-null   float64\n",
      " 36  Total_Basement_Area        1459 non-null   float64\n",
      " 37  Heating_Type               1459 non-null   int64  \n",
      " 38  Heating_Quality            1459 non-null   int64  \n",
      " 39  Air_Conditioning           1459 non-null   int64  \n",
      " 40  Electrical_System          1459 non-null   int64  \n",
      " 41  First_Floor_Area           1459 non-null   int64  \n",
      " 42  Second_Floor_Area          1459 non-null   int64  \n",
      " 43  Grade_Living_Area          1459 non-null   int64  \n",
      " 44  Underground_Full_Bathroom  1459 non-null   float64\n",
      " 45  Underground_Half_Bathroom  1459 non-null   float64\n",
      " 46  Full_Bathroom_Above_Grade  1459 non-null   int64  \n",
      " 47  Half_Bathroom_Above_Grade  1459 non-null   int64  \n",
      " 48  Bedroom_Above_Grade        1459 non-null   int64  \n",
      " 49  Kitchen_Quality            1459 non-null   int64  \n",
      " 50  Rooms_Above_Grade          1459 non-null   int64  \n",
      " 51  Functional_Rate            1459 non-null   int64  \n",
      " 52  Fireplaces                 1459 non-null   int64  \n",
      " 53  Garage                     1459 non-null   int64  \n",
      " 54  Garage_Built_Year          1459 non-null   float64\n",
      " 55  Garage_Finish_Year         1459 non-null   int64  \n",
      " 56  Garage_Size                1459 non-null   float64\n",
      " 57  Garage_Quality             1459 non-null   int64  \n",
      " 58  Garage_Condition           1459 non-null   int64  \n",
      " 59  Pavedd_Drive               1459 non-null   int64  \n",
      " 60  Screen_Lobby_Area          1459 non-null   int64  \n",
      " 61  Pool_Area                  1459 non-null   int64  \n",
      " 62  Miscellaneous_Value        1459 non-null   int64  \n",
      " 63  Month_Sold                 1459 non-null   int64  \n",
      " 64  Sale_Type                  1459 non-null   int64  \n",
      " 65  Sale_Condition             1459 non-null   int64  \n",
      "dtypes: float64(12), int64(54)\n",
      "memory usage: 752.4 KB\n"
     ]
    }
   ],
   "source": [
    "data1.info()"
   ]
  },
  {
   "cell_type": "code",
   "execution_count": 78,
   "id": "e6597456",
   "metadata": {},
   "outputs": [
    {
     "data": {
      "text/plain": [
       "((1459, 68), (1459, 66))"
      ]
     },
     "execution_count": 78,
     "metadata": {},
     "output_type": "execute_result"
    }
   ],
   "source": [
    "train.shape,data1.shape"
   ]
  },
  {
   "cell_type": "markdown",
   "id": "9c4ec166",
   "metadata": {},
   "source": [
    "# Model Building"
   ]
  },
  {
   "cell_type": "code",
   "execution_count": 79,
   "id": "fa3b5a47",
   "metadata": {},
   "outputs": [],
   "source": [
    "prop_x=train.iloc[:,0:-1]       #independent v\n",
    "prop_y=train.iloc[:,-1]         #target\n",
    "test_x=data1.iloc[:,1:]"
   ]
  },
  {
   "cell_type": "code",
   "execution_count": 80,
   "id": "3f8c63ea",
   "metadata": {},
   "outputs": [
    {
     "data": {
      "text/plain": [
       "((1459, 67), (1459,), (1459, 65))"
      ]
     },
     "execution_count": 80,
     "metadata": {},
     "output_type": "execute_result"
    }
   ],
   "source": [
    "prop_x.shape,prop_y.shape,test_x.shape"
   ]
  },
  {
   "cell_type": "code",
   "execution_count": 81,
   "id": "1af3f1c6",
   "metadata": {},
   "outputs": [],
   "source": [
    "import sklearn\n",
    "from sklearn.model_selection import train_test_split"
   ]
  },
  {
   "cell_type": "code",
   "execution_count": 82,
   "id": "3f30dc43",
   "metadata": {},
   "outputs": [],
   "source": [
    "prop_x_train,prop_x_test,prop_y_train,prop_y_test=train_test_split(prop_x,prop_y,test_size=0.2,random_state=101)"
   ]
  },
  {
   "cell_type": "code",
   "execution_count": 83,
   "id": "e5cc4a4c",
   "metadata": {},
   "outputs": [
    {
     "data": {
      "text/plain": [
       "((1167, 67), (292, 67), (1167,), (292,))"
      ]
     },
     "execution_count": 83,
     "metadata": {},
     "output_type": "execute_result"
    }
   ],
   "source": [
    "prop_x_train.shape,prop_x_test.shape,prop_y_train.shape,prop_y_test.shape"
   ]
  },
  {
   "cell_type": "markdown",
   "id": "02266b24",
   "metadata": {},
   "source": [
    "# 1.Linear Regression"
   ]
  },
  {
   "cell_type": "code",
   "execution_count": 84,
   "id": "717c598c",
   "metadata": {},
   "outputs": [],
   "source": [
    "from sklearn import linear_model\n",
    "lin=linear_model.LinearRegression()"
   ]
  },
  {
   "cell_type": "code",
   "execution_count": 85,
   "id": "780648f8",
   "metadata": {},
   "outputs": [
    {
     "data": {
      "text/plain": [
       "LinearRegression()"
      ]
     },
     "execution_count": 85,
     "metadata": {},
     "output_type": "execute_result"
    }
   ],
   "source": [
    "lin.fit(prop_x,prop_y)"
   ]
  },
  {
   "cell_type": "markdown",
   "id": "d68bc242",
   "metadata": {},
   "source": [
    "In a Jupyter environment, please rerun this cell to show the HTML representation or trust the notebook.\n",
    "On GitHub, the HTML representation is unable to render, please try loading this page with nbviewer.org."
   ]
  },
  {
   "cell_type": "code",
   "execution_count": 86,
   "id": "249a2b4d",
   "metadata": {},
   "outputs": [
    {
     "data": {
      "text/plain": [
       "array([178044.78967805, 193881.25674016,  86767.28939696, 144703.81135521,\n",
       "       170506.4496801 , 169237.91388585, 314431.78755525, 184489.64475542,\n",
       "       178505.25749171, 156386.27461484, 147711.98637193, 190007.96234239,\n",
       "       238341.77140554, 149214.67403561,  80810.64071377,  98708.79933397,\n",
       "       244332.89236471, 267065.80201592, 113281.96136119, 133376.38565479,\n",
       "       112917.28758274, 375524.35828717, 166416.94389385, 220772.80991221,\n",
       "        60132.5159931 ,  89233.57176343, 123143.51201908, 196100.96779547,\n",
       "       137461.84456866, 115683.21241327, 212235.24421323, 129267.52728938,\n",
       "       269690.69682708, 211759.70643446, 125465.36613645, 130142.38005372,\n",
       "       340581.60040896, 159892.63968473, 367044.96510186, 228548.93465567,\n",
       "       184548.36852425, 183884.96854557, 204433.15603262, 116244.55092566,\n",
       "       237886.36250271, 188695.06299548, 113019.01288812, 146449.65587743,\n",
       "       144802.54484146,  48447.24331971, 134494.52195535, 151834.14955978,\n",
       "       162417.98157378, 130246.44816003, 179213.97367174,  64017.75284096,\n",
       "       139123.61452242, 115186.22672853, 197052.24961847, 161871.20269427,\n",
       "       195232.45053965, 163627.92198308,  86360.49386347, 262250.9654317 ,\n",
       "       216947.70556427, 275711.46160249, 213769.80387603, 166757.41963041,\n",
       "       156785.96106363, 160528.71329916, 156244.67908372, 161737.84110458,\n",
       "       209859.46194157, 108937.0831789 ,  78494.58191335, 314791.45987322,\n",
       "       128337.4365972 ,  76891.54762504, 209031.031362  ,  57283.78374079,\n",
       "       111044.46945539, 240125.0983413 , 200509.212375  , 150991.95972237,\n",
       "       125798.88691874, 252755.30922602, 208414.96942199,  88743.18881507,\n",
       "       161676.37926435, 133597.16574746, 158807.52446901, 288729.03807678,\n",
       "       170871.74112801, 119084.86235074,  98413.28748664, 239769.65211169,\n",
       "       200638.31467568, 285866.27320002, 118891.24066259, 216028.9415429 ,\n",
       "       104157.15194604, 212589.60767141, 162635.79575285, 114560.62502529,\n",
       "        64133.26105365, 118852.25161581,  66212.49095942, 254985.07385152,\n",
       "       194086.2946461 , 218651.31489796, 133724.86206588, 166846.660945  ,\n",
       "       224783.2531121 , 135770.90932939, 174583.90600121, 122549.09807528,\n",
       "       233993.71932137, 102473.7200843 ,  99862.0123399 , 164789.44185842,\n",
       "       261344.67877675, 138614.44296668, 201484.62971162,  82350.58219235,\n",
       "       168633.42226048, 230463.12881973, 106106.15871473, 170633.27691267,\n",
       "       124497.19156027, 294458.2418066 , 101816.51990948, 269467.06986269,\n",
       "       374538.36208151, 232917.55783594, 147796.4871171 , 141321.27758944,\n",
       "       187522.53634015, 128997.71340916,  83092.20398593, 212812.30460722,\n",
       "       365861.85968885, 173097.70089338, 139953.46123033,  83558.25773217,\n",
       "       432747.72439451, 266488.20603393, 196894.51256929, 241113.67583524,\n",
       "       239170.33754573, 165197.473521  , 110553.31740571, 294180.8445055 ,\n",
       "       125692.60934141, 132223.20225751, 143483.5599454 , 267283.28278006,\n",
       "       206665.64833717, 130220.65472406, 197798.53401564, 181627.55855078,\n",
       "       151752.70238253, 338752.8301283 ,  70239.68600138, 127437.17901159,\n",
       "       305097.89543998, 158424.51385667, 111517.88934025,  79648.59311808,\n",
       "       129287.36418113, 232304.98378097, 105323.83534994,  81373.8329553 ,\n",
       "       129702.96337882, 143577.93540704, 115743.04725444, 248098.4195455 ,\n",
       "       116281.84914747, 286922.89382433, 284667.81371328, 119622.67683221,\n",
       "       101305.2031876 , 246050.79840076, 195086.07403909, 242193.77136553,\n",
       "       146045.44887607, 253654.91155185, 230644.25105261, 222850.82225156,\n",
       "       150211.1305908 , 115030.17773472, 125173.04937977,  96288.60755428,\n",
       "       103821.30814733, 127926.10511098, 231094.72520389, 318164.02298179,\n",
       "       247660.0840988 ,  88262.22476753, 125232.74920015, 237065.64286052,\n",
       "        95400.38582947, 203775.72112718, 113921.25029417, 191747.80688789,\n",
       "       181588.41964403, 260235.16014705, 159312.4364571 ,  60408.72978137,\n",
       "       167756.12325573, 236493.95187365, 192287.62954047, 215116.77334092,\n",
       "       158639.80277921, 181108.63617755, 258135.004931  , 251639.49808999,\n",
       "       182847.60555664,  74393.4618981 ,  90422.94019491, 160241.70083722,\n",
       "       236402.45197866, 124562.9621238 , 207273.36773557, 186290.28891531,\n",
       "       156125.27132939, 164835.9674482 , 200452.5729467 , 139703.95156652,\n",
       "       207990.37788795, 152481.92333106, 187817.39850567, 208315.00998773,\n",
       "       156783.10525201, 138451.46695374, 270542.79624171, 152451.22309675,\n",
       "       166706.67161807, 155404.47567358, 109585.33710309, 303065.50496139,\n",
       "       169307.31225236, 139642.78972864, 135524.63729058, 184562.97536208,\n",
       "        88558.77566274, 234125.9491345 , 233403.25120778, 141621.24663793,\n",
       "       184638.12668914, 110326.04153947, 179987.93502385, 301325.44191165,\n",
       "       119466.98086937, 246977.82051963, 199870.54993825, 173856.44164939,\n",
       "       150980.49014936, 309900.20444832, 111828.69439958, 108889.98523648,\n",
       "       263938.57052695, 139284.65187801, 133986.80464089, 193124.37630299,\n",
       "       170327.83248841, 273759.49208826, 256678.52248624, 204116.11675638,\n",
       "       117039.21866145, 170301.87420641, 271346.68697385, 209112.98026896,\n",
       "       116194.43365497, 158448.95553107, 132913.39134875, 266795.8166721 ,\n",
       "       116260.18135284, 170746.69683478, 182954.02516829, 371666.73561667,\n",
       "        63606.15033478, 261391.79154054, 206628.00970284, 209241.39022041,\n",
       "       183225.11407357, 145706.6578651 , 287307.89239087, 278961.45253728,\n",
       "       196289.26653456, 211380.72567093, 199592.21651505, 220153.82131917])"
      ]
     },
     "execution_count": 86,
     "metadata": {},
     "output_type": "execute_result"
    }
   ],
   "source": [
    "l1_p=lin.predict(prop_x_test)\n",
    "l1_p"
   ]
  },
  {
   "cell_type": "code",
   "execution_count": 87,
   "id": "b509fbd2",
   "metadata": {},
   "outputs": [
    {
     "data": {
      "text/plain": [
       "-655026.653159338"
      ]
     },
     "execution_count": 87,
     "metadata": {},
     "output_type": "execute_result"
    }
   ],
   "source": [
    "lin.intercept_"
   ]
  },
  {
   "cell_type": "code",
   "execution_count": 88,
   "id": "2a2bad64",
   "metadata": {},
   "outputs": [
    {
     "data": {
      "text/plain": [
       "array([-1.20295152e+02, -1.96979734e+03,  6.11877252e+01,  4.84885724e-01,\n",
       "       -3.93453319e+04,  2.33955145e+03, -7.70530032e+02, -4.23997151e+04,\n",
       "       -1.86510994e+02, -1.16301064e+03,  5.61015570e+02, -2.74214412e+03,\n",
       "       -9.37418783e+03, -2.31453603e+03,  5.81514856e+01,  1.26603348e+04,\n",
       "        4.87691597e+03, -1.03307229e-09,  1.56860303e+02,  2.50791951e+03,\n",
       "       -1.61615885e+03,  1.27905998e+03, -8.31879196e+02, -1.28518733e+03,\n",
       "        2.67469593e+01,  1.05852569e+04, -7.28679335e+02, -3.12639912e+03,\n",
       "        6.66691278e+03, -6.17722012e+02,  4.61301062e+03, -3.79147204e+02,\n",
       "       -1.19652338e+02,  1.38488039e+02, -1.33457210e+02, -1.38449625e+02,\n",
       "        1.64506909e+02,  8.18496085e+02, -1.33085253e+03, -3.07533319e+03,\n",
       "        1.40750950e+03,  3.80572824e+01,  4.33529170e+01, -3.97903932e-11,\n",
       "        2.88793743e+03, -4.58879433e+03, -7.73426285e+01,  3.23434233e+03,\n",
       "       -5.20115314e+03,  4.92239829e+03,  3.40960774e+03, -5.61104919e+03,\n",
       "        4.83234507e+03, -1.29837437e+03,  1.54138696e+03,  1.40798597e+02,\n",
       "       -7.57936909e+02,  9.00976869e+03,  3.00060157e+03, -2.69115660e+03,\n",
       "       -4.59197131e+03,  3.03872926e+01,  1.82103821e+01,  2.11235914e-02,\n",
       "        1.60883223e+01,  3.03830886e+03, -2.18880168e+03])"
      ]
     },
     "execution_count": 88,
     "metadata": {},
     "output_type": "execute_result"
    }
   ],
   "source": [
    "lin.coef_"
   ]
  },
  {
   "cell_type": "code",
   "execution_count": 89,
   "id": "3ed91202",
   "metadata": {},
   "outputs": [
    {
     "data": {
      "text/plain": [
       "0.8903827087207973"
      ]
     },
     "execution_count": 89,
     "metadata": {},
     "output_type": "execute_result"
    }
   ],
   "source": [
    "R2=lin.score(prop_x_train,prop_y_train)\n",
    "R2"
   ]
  },
  {
   "cell_type": "code",
   "execution_count": 90,
   "id": "f1c38721",
   "metadata": {},
   "outputs": [
    {
     "data": {
      "text/plain": [
       "0.8836999439203364"
      ]
     },
     "execution_count": 90,
     "metadata": {},
     "output_type": "execute_result"
    }
   ],
   "source": [
    "adj_R2=1-(((1-R2)*(1167-1))/(1167-67-1))\n",
    "adj_R2"
   ]
  },
  {
   "cell_type": "code",
   "execution_count": 91,
   "id": "7df6b4d2",
   "metadata": {},
   "outputs": [],
   "source": [
    "from sklearn import metrics"
   ]
  },
  {
   "cell_type": "code",
   "execution_count": 92,
   "id": "5f3f9014",
   "metadata": {},
   "outputs": [
    {
     "data": {
      "text/plain": [
       "17192.46639777519"
      ]
     },
     "execution_count": 92,
     "metadata": {},
     "output_type": "execute_result"
    }
   ],
   "source": [
    "prop_mae=metrics.mean_absolute_error(prop_y_test,l1_p)\n",
    "prop_mae"
   ]
  },
  {
   "cell_type": "code",
   "execution_count": 93,
   "id": "42819f8f",
   "metadata": {},
   "outputs": [
    {
     "data": {
      "text/plain": [
       "532308358.63782805"
      ]
     },
     "execution_count": 93,
     "metadata": {},
     "output_type": "execute_result"
    }
   ],
   "source": [
    "prop_mse=metrics.mean_squared_error(prop_y_test,l1_p)\n",
    "prop_mse"
   ]
  },
  {
   "cell_type": "code",
   "execution_count": 94,
   "id": "3645e6b4",
   "metadata": {},
   "outputs": [
    {
     "data": {
      "text/plain": [
       "23071.808742225392"
      ]
     },
     "execution_count": 94,
     "metadata": {},
     "output_type": "execute_result"
    }
   ],
   "source": [
    "prop_rmse=np.sqrt(prop_mse)\n",
    "prop_rmse"
   ]
  },
  {
   "cell_type": "code",
   "execution_count": 95,
   "id": "c723ae5f",
   "metadata": {},
   "outputs": [],
   "source": [
    "#error\n",
    "error=prop_y_test-l1_p\n"
   ]
  },
  {
   "cell_type": "code",
   "execution_count": 96,
   "id": "ab6086e7",
   "metadata": {},
   "outputs": [],
   "source": [
    "#error_abs\n",
    "error_abs=np.absolute(error)\n"
   ]
  },
  {
   "cell_type": "code",
   "execution_count": 97,
   "id": "36731f0d",
   "metadata": {},
   "outputs": [
    {
     "data": {
      "text/plain": [
       "10.596516126971922"
      ]
     },
     "execution_count": 97,
     "metadata": {},
     "output_type": "execute_result"
    }
   ],
   "source": [
    "prop_mape=np.mean(error_abs/prop_y_test)*100\n",
    "prop_mape"
   ]
  },
  {
   "cell_type": "code",
   "execution_count": 98,
   "id": "7c0f68cb",
   "metadata": {},
   "outputs": [
    {
     "data": {
      "text/plain": [
       "89.40348387302808"
      ]
     },
     "execution_count": 98,
     "metadata": {},
     "output_type": "execute_result"
    }
   ],
   "source": [
    "prop_acc1=100-prop_mape\n",
    "prop_acc1"
   ]
  },
  {
   "cell_type": "code",
   "execution_count": 99,
   "id": "c0445b30",
   "metadata": {},
   "outputs": [
    {
     "data": {
      "text/plain": [
       "<matplotlib.collections.PathCollection at 0x1b9eaa7aa90>"
      ]
     },
     "execution_count": 99,
     "metadata": {},
     "output_type": "execute_result"
    },
    {
     "data": {
      "image/png": "[encoded data removed]",
      "text/plain": [
       "<Figure size 432x288 with 1 Axes>"
      ]
     },
     "metadata": {
      "needs_background": "light"
     },
     "output_type": "display_data"
    }
   ],
   "source": [
    "plt.scatter(prop_y_test,l1_p)"
   ]
  },
  {
   "cell_type": "code",
   "execution_count": 100,
   "id": "7e48fe83",
   "metadata": {},
   "outputs": [
    {
     "data": {
      "text/plain": [
       "<AxesSubplot:xlabel='Sale_Price', ylabel='Density'>"
      ]
     },
     "execution_count": 100,
     "metadata": {},
     "output_type": "execute_result"
    },
    {
     "data": {
      "image/png": "[encoded data removed]",
      "text/plain": [
       "<Figure size 432x288 with 1 Axes>"
      ]
     },
     "metadata": {
      "needs_background": "light"
     },
     "output_type": "display_data"
    }
   ],
   "source": [
    "sns.distplot(prop_y_test-l1_p)"
   ]
  },
  {
   "cell_type": "markdown",
   "id": "b7105790",
   "metadata": {},
   "source": [
    "# 2.LASSO (L1) "
   ]
  },
  {
   "cell_type": "code",
   "execution_count": 101,
   "id": "a224d3c7",
   "metadata": {},
   "outputs": [],
   "source": [
    "from sklearn.linear_model import Lasso\n",
    "lo=Lasso()"
   ]
  },
  {
   "cell_type": "code",
   "execution_count": 102,
   "id": "94745691",
   "metadata": {},
   "outputs": [
    {
     "data": {
      "text/plain": [
       "Lasso()"
      ]
     },
     "execution_count": 102,
     "metadata": {},
     "output_type": "execute_result"
    }
   ],
   "source": [
    "lo.fit(prop_x_train,prop_y_train)"
   ]
  },
  {
   "cell_type": "markdown",
   "id": "21fbb930",
   "metadata": {},
   "source": [
    "In a Jupyter environment, please rerun this cell to show the HTML representation or trust the notebook.\n",
    "On GitHub, the HTML representation is unable to render, please try loading this page with nbviewer.org."
   ]
  },
  {
   "cell_type": "code",
   "execution_count": 103,
   "id": "e710d592",
   "metadata": {},
   "outputs": [],
   "source": [
    "#lo_p\n",
    "lo_p=lo.predict(prop_x_test)\n"
   ]
  },
  {
   "cell_type": "code",
   "execution_count": 104,
   "id": "73c16978",
   "metadata": {},
   "outputs": [
    {
     "data": {
      "text/plain": [
       "array([-1.31184320e+02, -2.21553070e+03,  2.90800214e+01,  4.70839814e-01,\n",
       "       -3.89525410e+04,  3.13587861e+03, -8.58272374e+01, -4.36881365e+04,\n",
       "       -2.67191290e+02, -2.50575478e+03,  5.57578864e+02, -3.13471132e+03,\n",
       "       -1.18632154e+04, -2.58494491e+03,  4.96901407e+02,  1.25042247e+04,\n",
       "        4.16622199e+03,  0.00000000e+00,  1.37729883e+02,  3.05940746e+03,\n",
       "       -2.85200074e+03,  1.52486222e+03, -8.59416849e+02, -7.16132718e+02,\n",
       "        2.72685786e+01,  9.63934703e+03, -1.32368524e+03, -2.96479776e+03,\n",
       "        6.88055120e+03, -1.18108208e+03,  4.67275488e+03, -1.01897304e+03,\n",
       "       -8.12248436e+01, -5.55356099e+02, -9.13953733e+01, -1.03877976e+02,\n",
       "        1.28851399e+02, -3.03555981e+03, -2.30269651e+03, -2.41526092e+03,\n",
       "        7.51371474e+02,  3.66348689e+01,  4.28003942e+01,  0.00000000e+00,\n",
       "        1.62922080e+03, -6.56158014e+03,  1.48575596e+02,  3.21961659e+03,\n",
       "       -4.80205525e+03,  5.50725629e+03,  3.32590545e+03, -5.31163263e+03,\n",
       "        5.09263750e+03, -1.63544537e+03,  1.98467319e+03,  1.10739181e+02,\n",
       "       -2.54139177e+02,  8.96884598e+03,  1.03740253e+03, -1.37251366e+03,\n",
       "       -3.50494626e+03,  2.06091126e+01,  2.22039292e+01,  5.54936743e-01,\n",
       "        6.99963768e+01,  4.26317462e+03, -2.70578396e+03])"
      ]
     },
     "execution_count": 104,
     "metadata": {},
     "output_type": "execute_result"
    }
   ],
   "source": [
    "lo.coef_"
   ]
  },
  {
   "cell_type": "code",
   "execution_count": 105,
   "id": "dea7a410",
   "metadata": {},
   "outputs": [
    {
     "data": {
      "text/plain": [
       "0.891565499800648"
      ]
     },
     "execution_count": 105,
     "metadata": {},
     "output_type": "execute_result"
    }
   ],
   "source": [
    "lo_r2=lo.score(prop_x_train,prop_y_train)\n",
    "lo_r2"
   ]
  },
  {
   "cell_type": "code",
   "execution_count": 106,
   "id": "c1c4120a",
   "metadata": {},
   "outputs": [
    {
     "data": {
      "text/plain": [
       "0.8849548432825801"
      ]
     },
     "execution_count": 106,
     "metadata": {},
     "output_type": "execute_result"
    }
   ],
   "source": [
    "lo_adj_R2=1-(((1-lo_r2)*(1167-1))/(1167-67-1))\n",
    "lo_adj_R2"
   ]
  },
  {
   "cell_type": "code",
   "execution_count": 107,
   "id": "a0bb74b0",
   "metadata": {},
   "outputs": [
    {
     "data": {
      "text/html": [
       "<div>\n",
       "<style scoped>\n",
       "    .dataframe tbody tr th:only-of-type {\n",
       "        vertical-align: middle;\n",
       "    }\n",
       "\n",
       "    .dataframe tbody tr th {\n",
       "        vertical-align: top;\n",
       "    }\n",
       "\n",
       "    .dataframe thead th {\n",
       "        text-align: right;\n",
       "    }\n",
       "</style>\n",
       "<table border=\"1\" class=\"dataframe\">\n",
       "  <thead>\n",
       "    <tr style=\"text-align: right;\">\n",
       "      <th></th>\n",
       "      <th>Importance</th>\n",
       "      <th>columns</th>\n",
       "    </tr>\n",
       "  </thead>\n",
       "  <tbody>\n",
       "    <tr>\n",
       "      <th>0</th>\n",
       "      <td>-131.184320</td>\n",
       "      <td>Building_Class</td>\n",
       "    </tr>\n",
       "    <tr>\n",
       "      <th>1</th>\n",
       "      <td>-2215.530696</td>\n",
       "      <td>Zoning_Class</td>\n",
       "    </tr>\n",
       "    <tr>\n",
       "      <th>2</th>\n",
       "      <td>29.080021</td>\n",
       "      <td>Lot_Extent</td>\n",
       "    </tr>\n",
       "    <tr>\n",
       "      <th>3</th>\n",
       "      <td>0.470840</td>\n",
       "      <td>Lot_Size</td>\n",
       "    </tr>\n",
       "    <tr>\n",
       "      <th>4</th>\n",
       "      <td>-38952.540981</td>\n",
       "      <td>Road_Type</td>\n",
       "    </tr>\n",
       "    <tr>\n",
       "      <th>...</th>\n",
       "      <td>...</td>\n",
       "      <td>...</td>\n",
       "    </tr>\n",
       "    <tr>\n",
       "      <th>62</th>\n",
       "      <td>22.203929</td>\n",
       "      <td>Pool_Area</td>\n",
       "    </tr>\n",
       "    <tr>\n",
       "      <th>63</th>\n",
       "      <td>0.554937</td>\n",
       "      <td>Miscellaneous_Value</td>\n",
       "    </tr>\n",
       "    <tr>\n",
       "      <th>64</th>\n",
       "      <td>69.996377</td>\n",
       "      <td>Month_Sold</td>\n",
       "    </tr>\n",
       "    <tr>\n",
       "      <th>65</th>\n",
       "      <td>4263.174616</td>\n",
       "      <td>Sale_Type</td>\n",
       "    </tr>\n",
       "    <tr>\n",
       "      <th>66</th>\n",
       "      <td>-2705.783959</td>\n",
       "      <td>Sale_Condition</td>\n",
       "    </tr>\n",
       "  </tbody>\n",
       "</table>\n",
       "<p>67 rows × 2 columns</p>\n",
       "</div>"
      ],
      "text/plain": [
       "      Importance              columns\n",
       "0    -131.184320       Building_Class\n",
       "1   -2215.530696         Zoning_Class\n",
       "2      29.080021           Lot_Extent\n",
       "3       0.470840             Lot_Size\n",
       "4  -38952.540981            Road_Type\n",
       "..           ...                  ...\n",
       "62     22.203929            Pool_Area\n",
       "63      0.554937  Miscellaneous_Value\n",
       "64     69.996377           Month_Sold\n",
       "65   4263.174616            Sale_Type\n",
       "66  -2705.783959       Sale_Condition\n",
       "\n",
       "[67 rows x 2 columns]"
      ]
     },
     "execution_count": 107,
     "metadata": {},
     "output_type": "execute_result"
    }
   ],
   "source": [
    "df1=pd.DataFrame({\"Importance\":list(lo.coef_),\"columns\":list(prop_x)})\n",
    "df1"
   ]
  },
  {
   "cell_type": "code",
   "execution_count": 108,
   "id": "554602e2",
   "metadata": {},
   "outputs": [
    {
     "data": {
      "text/html": [
       "<div>\n",
       "<style scoped>\n",
       "    .dataframe tbody tr th:only-of-type {\n",
       "        vertical-align: middle;\n",
       "    }\n",
       "\n",
       "    .dataframe tbody tr th {\n",
       "        vertical-align: top;\n",
       "    }\n",
       "\n",
       "    .dataframe thead th {\n",
       "        text-align: right;\n",
       "    }\n",
       "</style>\n",
       "<table border=\"1\" class=\"dataframe\">\n",
       "  <thead>\n",
       "    <tr style=\"text-align: right;\">\n",
       "      <th></th>\n",
       "      <th>Building_Class</th>\n",
       "      <th>Brick_Veneer_Area</th>\n",
       "      <th>Construction_Year</th>\n",
       "      <th>First_Floor_Area</th>\n",
       "      <th>Total_Basement_Area</th>\n",
       "      <th>Garage_Size</th>\n",
       "      <th>Overall_Material</th>\n",
       "      <th>Grade_Living_Area</th>\n",
       "      <th>Lot_Extent</th>\n",
       "      <th>Lot_Size</th>\n",
       "      <th>Month_Sold</th>\n",
       "      <th>House_Condition</th>\n",
       "      <th>Sale_Condition</th>\n",
       "      <th>Sale_Price</th>\n",
       "    </tr>\n",
       "  </thead>\n",
       "  <tbody>\n",
       "    <tr>\n",
       "      <th>0</th>\n",
       "      <td>60</td>\n",
       "      <td>196.0</td>\n",
       "      <td>1816</td>\n",
       "      <td>856</td>\n",
       "      <td>856.0</td>\n",
       "      <td>2</td>\n",
       "      <td>7</td>\n",
       "      <td>2</td>\n",
       "      <td>65.0</td>\n",
       "      <td>8450</td>\n",
       "      <td>2</td>\n",
       "      <td>5</td>\n",
       "      <td>0</td>\n",
       "      <td>208500</td>\n",
       "    </tr>\n",
       "    <tr>\n",
       "      <th>1</th>\n",
       "      <td>20</td>\n",
       "      <td>0.0</td>\n",
       "      <td>1816</td>\n",
       "      <td>1262</td>\n",
       "      <td>1262.0</td>\n",
       "      <td>2</td>\n",
       "      <td>6</td>\n",
       "      <td>2</td>\n",
       "      <td>80.0</td>\n",
       "      <td>9600</td>\n",
       "      <td>5</td>\n",
       "      <td>8</td>\n",
       "      <td>0</td>\n",
       "      <td>181500</td>\n",
       "    </tr>\n",
       "    <tr>\n",
       "      <th>2</th>\n",
       "      <td>60</td>\n",
       "      <td>162.0</td>\n",
       "      <td>1816</td>\n",
       "      <td>920</td>\n",
       "      <td>920.0</td>\n",
       "      <td>2</td>\n",
       "      <td>7</td>\n",
       "      <td>2</td>\n",
       "      <td>68.0</td>\n",
       "      <td>11250</td>\n",
       "      <td>9</td>\n",
       "      <td>5</td>\n",
       "      <td>0</td>\n",
       "      <td>223500</td>\n",
       "    </tr>\n",
       "    <tr>\n",
       "      <th>3</th>\n",
       "      <td>70</td>\n",
       "      <td>0.0</td>\n",
       "      <td>1816</td>\n",
       "      <td>961</td>\n",
       "      <td>756.0</td>\n",
       "      <td>3</td>\n",
       "      <td>7</td>\n",
       "      <td>2</td>\n",
       "      <td>60.0</td>\n",
       "      <td>9550</td>\n",
       "      <td>2</td>\n",
       "      <td>5</td>\n",
       "      <td>2</td>\n",
       "      <td>140000</td>\n",
       "    </tr>\n",
       "    <tr>\n",
       "      <th>4</th>\n",
       "      <td>60</td>\n",
       "      <td>350.0</td>\n",
       "      <td>1816</td>\n",
       "      <td>1145</td>\n",
       "      <td>1145.0</td>\n",
       "      <td>3</td>\n",
       "      <td>8</td>\n",
       "      <td>2</td>\n",
       "      <td>84.0</td>\n",
       "      <td>14260</td>\n",
       "      <td>12</td>\n",
       "      <td>5</td>\n",
       "      <td>0</td>\n",
       "      <td>250000</td>\n",
       "    </tr>\n",
       "    <tr>\n",
       "      <th>...</th>\n",
       "      <td>...</td>\n",
       "      <td>...</td>\n",
       "      <td>...</td>\n",
       "      <td>...</td>\n",
       "      <td>...</td>\n",
       "      <td>...</td>\n",
       "      <td>...</td>\n",
       "      <td>...</td>\n",
       "      <td>...</td>\n",
       "      <td>...</td>\n",
       "      <td>...</td>\n",
       "      <td>...</td>\n",
       "      <td>...</td>\n",
       "      <td>...</td>\n",
       "    </tr>\n",
       "    <tr>\n",
       "      <th>1454</th>\n",
       "      <td>20</td>\n",
       "      <td>0.0</td>\n",
       "      <td>1816</td>\n",
       "      <td>1221</td>\n",
       "      <td>1221.0</td>\n",
       "      <td>2</td>\n",
       "      <td>7</td>\n",
       "      <td>2</td>\n",
       "      <td>62.0</td>\n",
       "      <td>7500</td>\n",
       "      <td>10</td>\n",
       "      <td>5</td>\n",
       "      <td>0</td>\n",
       "      <td>185000</td>\n",
       "    </tr>\n",
       "    <tr>\n",
       "      <th>1455</th>\n",
       "      <td>60</td>\n",
       "      <td>0.0</td>\n",
       "      <td>1816</td>\n",
       "      <td>953</td>\n",
       "      <td>953.0</td>\n",
       "      <td>2</td>\n",
       "      <td>6</td>\n",
       "      <td>2</td>\n",
       "      <td>62.0</td>\n",
       "      <td>7917</td>\n",
       "      <td>8</td>\n",
       "      <td>5</td>\n",
       "      <td>0</td>\n",
       "      <td>175000</td>\n",
       "    </tr>\n",
       "    <tr>\n",
       "      <th>1456</th>\n",
       "      <td>20</td>\n",
       "      <td>119.0</td>\n",
       "      <td>1816</td>\n",
       "      <td>2073</td>\n",
       "      <td>1542.0</td>\n",
       "      <td>2</td>\n",
       "      <td>6</td>\n",
       "      <td>2</td>\n",
       "      <td>85.0</td>\n",
       "      <td>13175</td>\n",
       "      <td>2</td>\n",
       "      <td>6</td>\n",
       "      <td>0</td>\n",
       "      <td>210000</td>\n",
       "    </tr>\n",
       "    <tr>\n",
       "      <th>1457</th>\n",
       "      <td>70</td>\n",
       "      <td>0.0</td>\n",
       "      <td>1816</td>\n",
       "      <td>1188</td>\n",
       "      <td>1152.0</td>\n",
       "      <td>1</td>\n",
       "      <td>7</td>\n",
       "      <td>2</td>\n",
       "      <td>66.0</td>\n",
       "      <td>9042</td>\n",
       "      <td>5</td>\n",
       "      <td>9</td>\n",
       "      <td>0</td>\n",
       "      <td>266500</td>\n",
       "    </tr>\n",
       "    <tr>\n",
       "      <th>1458</th>\n",
       "      <td>20</td>\n",
       "      <td>0.0</td>\n",
       "      <td>1816</td>\n",
       "      <td>1078</td>\n",
       "      <td>1078.0</td>\n",
       "      <td>1</td>\n",
       "      <td>5</td>\n",
       "      <td>2</td>\n",
       "      <td>68.0</td>\n",
       "      <td>9717</td>\n",
       "      <td>4</td>\n",
       "      <td>6</td>\n",
       "      <td>0</td>\n",
       "      <td>142125</td>\n",
       "    </tr>\n",
       "  </tbody>\n",
       "</table>\n",
       "<p>1459 rows × 14 columns</p>\n",
       "</div>"
      ],
      "text/plain": [
       "      Building_Class  Brick_Veneer_Area  Construction_Year  First_Floor_Area  \\\n",
       "0                 60              196.0               1816               856   \n",
       "1                 20                0.0               1816              1262   \n",
       "2                 60              162.0               1816               920   \n",
       "3                 70                0.0               1816               961   \n",
       "4                 60              350.0               1816              1145   \n",
       "...              ...                ...                ...               ...   \n",
       "1454              20                0.0               1816              1221   \n",
       "1455              60                0.0               1816               953   \n",
       "1456              20              119.0               1816              2073   \n",
       "1457              70                0.0               1816              1188   \n",
       "1458              20                0.0               1816              1078   \n",
       "\n",
       "      Total_Basement_Area  Garage_Size  Overall_Material  Grade_Living_Area  \\\n",
       "0                   856.0            2                 7                  2   \n",
       "1                  1262.0            2                 6                  2   \n",
       "2                   920.0            2                 7                  2   \n",
       "3                   756.0            3                 7                  2   \n",
       "4                  1145.0            3                 8                  2   \n",
       "...                   ...          ...               ...                ...   \n",
       "1454               1221.0            2                 7                  2   \n",
       "1455                953.0            2                 6                  2   \n",
       "1456               1542.0            2                 6                  2   \n",
       "1457               1152.0            1                 7                  2   \n",
       "1458               1078.0            1                 5                  2   \n",
       "\n",
       "      Lot_Extent  Lot_Size  Month_Sold  House_Condition  Sale_Condition  \\\n",
       "0           65.0      8450           2                5               0   \n",
       "1           80.0      9600           5                8               0   \n",
       "2           68.0     11250           9                5               0   \n",
       "3           60.0      9550           2                5               2   \n",
       "4           84.0     14260          12                5               0   \n",
       "...          ...       ...         ...              ...             ...   \n",
       "1454        62.0      7500          10                5               0   \n",
       "1455        62.0      7917           8                5               0   \n",
       "1456        85.0     13175           2                6               0   \n",
       "1457        66.0      9042           5                9               0   \n",
       "1458        68.0      9717           4                6               0   \n",
       "\n",
       "      Sale_Price  \n",
       "0         208500  \n",
       "1         181500  \n",
       "2         223500  \n",
       "3         140000  \n",
       "4         250000  \n",
       "...          ...  \n",
       "1454      185000  \n",
       "1455      175000  \n",
       "1456      210000  \n",
       "1457      266500  \n",
       "1458      142125  \n",
       "\n",
       "[1459 rows x 14 columns]"
      ]
     },
     "execution_count": 108,
     "metadata": {},
     "output_type": "execute_result"
    }
   ],
   "source": [
    "new=pd.DataFrame(train,columns=[\"Building_Class\",\"Brick_Veneer_Area\",\"Construction_Year\",\"First_Floor_Area\",\"Total_Basement_Area\",\"Garage_Size\",\"Overall_Material\",\"Grade_Living_Area\",\"Lot_Extent\",\"Lot_Size\",\"Month_Sold\",\"House_Condition\",\"Sale_Condition\",\"Sale_Price\"])\n",
    "new"
   ]
  },
  {
   "cell_type": "code",
   "execution_count": 109,
   "id": "56526db8",
   "metadata": {},
   "outputs": [],
   "source": [
    "new_x=new.iloc[:,0:13]\n",
    "new_y=new.iloc[:,-1]"
   ]
  },
  {
   "cell_type": "code",
   "execution_count": 110,
   "id": "13b46cbf",
   "metadata": {},
   "outputs": [
    {
     "data": {
      "text/plain": [
       "((1459, 13), (1459,))"
      ]
     },
     "execution_count": 110,
     "metadata": {},
     "output_type": "execute_result"
    }
   ],
   "source": [
    "new_x.shape,new_y.shape"
   ]
  },
  {
   "cell_type": "code",
   "execution_count": 111,
   "id": "79ed6ffb",
   "metadata": {},
   "outputs": [],
   "source": [
    "new_x_train,new_x_test,new_y_train,new_y_test=train_test_split(new_x,new_y,test_size=0.2,random_state=101)"
   ]
  },
  {
   "cell_type": "code",
   "execution_count": 112,
   "id": "97a193bb",
   "metadata": {},
   "outputs": [
    {
     "data": {
      "text/plain": [
       "((1167, 13), (292, 13), (1167,), (292,))"
      ]
     },
     "execution_count": 112,
     "metadata": {},
     "output_type": "execute_result"
    }
   ],
   "source": [
    "new_x_train.shape,new_x_test.shape,new_y_train.shape,new_y_test.shape"
   ]
  },
  {
   "cell_type": "code",
   "execution_count": 113,
   "id": "68af771a",
   "metadata": {},
   "outputs": [
    {
     "data": {
      "text/plain": [
       "LinearRegression()"
      ]
     },
     "execution_count": 113,
     "metadata": {},
     "output_type": "execute_result"
    }
   ],
   "source": [
    "lin.fit(new_x_train,new_y_train)"
   ]
  },
  {
   "cell_type": "markdown",
   "id": "26d817b7",
   "metadata": {},
   "source": [
    "In a Jupyter environment, please rerun this cell to show the HTML representation or trust the notebook.\n",
    "On GitHub, the HTML representation is unable to render, please try loading this page with nbviewer.org."
   ]
  },
  {
   "cell_type": "code",
   "execution_count": 114,
   "id": "979f4ba8",
   "metadata": {},
   "outputs": [
    {
     "data": {
      "text/plain": [
       "array([191155.34860169, 213301.83785108,  60675.95975256, 148804.60617519,\n",
       "       189763.01555381, 175966.27559482, 299999.57877189, 190764.22305006,\n",
       "       179124.55834965, 183518.98302889, 117882.00248132, 199178.06219077,\n",
       "       226828.8992756 , 161981.16871781, 114946.47023238, 124125.86565476,\n",
       "       205826.01637883, 246702.51605961, 135758.6535326 , 148484.99006373,\n",
       "       132917.80440765, 342546.04732824, 146979.88836908, 197279.8604998 ,\n",
       "        77043.45595479,  89117.15801142, 118501.68329222, 173913.99225936,\n",
       "       128277.86073015, 118526.73685148, 188592.56940986, 132964.12651696,\n",
       "       257965.21750468, 212682.62742874, 131080.80027423, 118020.745126  ,\n",
       "       333099.0694569 , 165069.30061794, 369555.46382661, 202673.04511194,\n",
       "       155953.11061566, 202228.70594504, 191644.26045306, 134999.9539435 ,\n",
       "       245365.4749778 , 191095.58088753, 120662.229326  , 123099.28534535,\n",
       "       136730.63387965,  22464.71997453, 132117.99236989, 175438.57158889,\n",
       "        83707.98319118, 164248.37376953, 166624.63665511,  56332.71301223,\n",
       "       102383.01002528, 133374.09629921, 242357.64316125, 172656.38031865,\n",
       "       177532.39626635, 141104.08668165,  99482.88271045, 218819.39419534,\n",
       "       220636.07708365, 227051.21982215, 241322.21447512, 210944.85398811,\n",
       "       172456.42543708, 180505.46528802, 114809.74472151, 204305.40359748,\n",
       "       192644.61426782, 131474.28609847,  52928.33254398, 332035.69085018,\n",
       "       137922.09268023,  67039.78266359, 195443.62375977,  66842.67165382,\n",
       "       117212.9226457 , 235168.29277735, 185700.74817346, 153634.27814174,\n",
       "       127427.16470519, 240758.30018955, 202939.58566172,  81736.47409926,\n",
       "       189151.88836155, 129972.48456313, 173737.73330942, 318521.28761004,\n",
       "       156889.52707606, 131394.81603554, 121873.85822352, 211111.97173999,\n",
       "       167873.96071881, 305933.58808688, 114834.17736995, 195087.05747946,\n",
       "        84304.22017811, 187900.41608551, 112506.31301186, 123209.16372059,\n",
       "        39726.19767025, 145010.74545049,  44929.54265548, 295959.85443056,\n",
       "       160300.3903751 , 195335.48662245, 131575.7405576 , 166792.5549033 ,\n",
       "       213732.90531   , 175199.12358748, 152982.20080889, 166811.53717312,\n",
       "       220489.27834844, 110163.06316832,  62260.71913806, 184010.79560711,\n",
       "       240105.02337397, 115454.26030146, 203157.58835114,  91063.43428974,\n",
       "       175818.93707257, 229827.88472486,  85489.86555961, 165478.63653955,\n",
       "       132860.46553477, 278146.88852591,  88921.67372299, 316086.10327613,\n",
       "       409651.0427186 , 296006.8776268 , 147454.84956623, 149474.24106412,\n",
       "       214833.36319476, 136302.47030143, 104782.02620894, 217967.03043048,\n",
       "       353704.7494369 , 163055.39753703, 146251.7755677 ,  48061.35912921,\n",
       "       411513.16617953, 294807.00527373, 184739.58760505, 236997.23531098,\n",
       "       234197.22984111, 186688.97366456, 116483.23748994, 284614.24170052,\n",
       "       141860.05051553, 157498.92711119, 151750.62761209, 259308.59607947,\n",
       "       186576.54370307, 118999.50148407, 161350.47827565, 207651.77396456,\n",
       "       155980.70925567, 332905.10110717,  77352.12717659, 134516.99668419,\n",
       "       263049.27600749, 166418.82153147, 138225.82563439, 108849.20938424,\n",
       "       104405.3188355 , 242762.39792934,  98728.33890493, 124771.69092946,\n",
       "       136234.14914195, 166627.37241371,  57303.37406064, 231400.79788596,\n",
       "        93517.20530572, 286691.55093031, 282968.19744734, 142217.79824995,\n",
       "       151509.63647248, 278485.56793786, 194980.24808823, 243759.28905568,\n",
       "       189944.5032009 , 236070.85054656, 212579.86608569, 212645.53804738,\n",
       "       163080.0800193 , 151603.8490043 , 138908.74618867, 121558.53711906,\n",
       "       121158.52063962, 129573.40396444, 200326.99679927, 262122.89487571,\n",
       "       213647.46547567,  66542.24637802, 126176.24055699, 239066.66769371,\n",
       "        90599.57773881, 205332.51389688, 149555.56081986, 209429.02462055,\n",
       "       197809.1951621 , 240369.49077957, 160251.83401437,  70810.41156632,\n",
       "       184949.25783945, 201597.95843971, 201149.19199247, 191390.30087234,\n",
       "       501639.32022752, 170658.82193825, 315336.68002692, 234909.10024212,\n",
       "       190650.55751133,  88421.14483232,  96270.98916007, 135614.71748973,\n",
       "       238503.88163026, 111581.2018128 , 226986.06321454, 202676.28439713,\n",
       "       167176.53553053, 169238.65168885, 220635.08952372, 156675.17687932,\n",
       "       216101.88893848, 162054.92115292, 194113.31723638, 163456.12604028,\n",
       "       152148.81579878, 145500.0051261 , 226649.24257626, 151850.55581495,\n",
       "       198140.15468534, 191815.39585323, 152210.26759926, 264075.86519079,\n",
       "       163938.7133179 , 150004.10901039, 137272.74392642, 158086.25743474,\n",
       "       103658.07730872, 218741.52711574, 168919.32619854, 139784.15463657,\n",
       "       188964.11792373, 108242.04419564, 205539.82616154, 265884.39022987,\n",
       "       129579.90377616, 230341.90712206, 213419.20294768, 182708.44238829,\n",
       "       165350.41204286, 311976.29329813,  75527.81018161, 119794.64520708,\n",
       "       235831.58653706, 138782.63371221, 136867.27081149, 207252.68697364,\n",
       "       148174.35252342, 258761.44173174, 207061.8783436 , 191914.73628009,\n",
       "       112030.14585677, 166201.14049078, 280398.42653137, 232203.39134932,\n",
       "       136619.4471745 , 138069.24468165, 124654.50019097, 255060.98054034,\n",
       "        95763.30266202, 152561.9292563 , 161411.53164766, 340529.67545199,\n",
       "        58613.84543404, 262032.58909186, 211660.09270228, 213799.20261405,\n",
       "       168247.55146412, 137539.40338252, 250121.40343783, 243963.82098915,\n",
       "       178397.13762332, 216492.00459778, 193679.29965204, 251691.80567116])"
      ]
     },
     "execution_count": 114,
     "metadata": {},
     "output_type": "execute_result"
    }
   ],
   "source": [
    "n_p=lin.predict(new_x_test)\n",
    "n_p"
   ]
  },
  {
   "cell_type": "code",
   "execution_count": 115,
   "id": "76ccba89",
   "metadata": {},
   "outputs": [
    {
     "data": {
      "text/plain": [
       "0.7796037363349918"
      ]
     },
     "execution_count": 115,
     "metadata": {},
     "output_type": "execute_result"
    }
   ],
   "source": [
    "n_R2=lin.score(new_x_train,new_y_train)\n",
    "n_R2"
   ]
  },
  {
   "cell_type": "code",
   "execution_count": 116,
   "id": "d59b11b8",
   "metadata": {},
   "outputs": [
    {
     "data": {
      "text/plain": [
       "0.7771187827984393"
      ]
     },
     "execution_count": 116,
     "metadata": {},
     "output_type": "execute_result"
    }
   ],
   "source": [
    "ad_R2=1-(((1-n_R2)*(1167-1))/(1167-13-1))\n",
    "ad_R2"
   ]
  },
  {
   "cell_type": "code",
   "execution_count": 117,
   "id": "2317172a",
   "metadata": {},
   "outputs": [
    {
     "data": {
      "text/plain": [
       "24939.999045156765"
      ]
     },
     "execution_count": 117,
     "metadata": {},
     "output_type": "execute_result"
    }
   ],
   "source": [
    "new_mae=metrics.mean_absolute_error(new_y_test,n_p)\n",
    "new_mae"
   ]
  },
  {
   "cell_type": "code",
   "execution_count": 118,
   "id": "ab79c475",
   "metadata": {},
   "outputs": [
    {
     "data": {
      "text/plain": [
       "1363641174.8792918"
      ]
     },
     "execution_count": 118,
     "metadata": {},
     "output_type": "execute_result"
    }
   ],
   "source": [
    "new_mse=metrics.mean_squared_error(new_y_test,n_p)\n",
    "new_mse"
   ]
  },
  {
   "cell_type": "code",
   "execution_count": 119,
   "id": "abb619a0",
   "metadata": {},
   "outputs": [
    {
     "data": {
      "text/plain": [
       "36927.51243827956"
      ]
     },
     "execution_count": 119,
     "metadata": {},
     "output_type": "execute_result"
    }
   ],
   "source": [
    "new_rmse=np.sqrt(new_mse)\n",
    "new_rmse"
   ]
  },
  {
   "cell_type": "code",
   "execution_count": 120,
   "id": "c395fd59",
   "metadata": {},
   "outputs": [],
   "source": [
    "#error\n",
    "error=new_y_test-l1_p\n"
   ]
  },
  {
   "cell_type": "code",
   "execution_count": 121,
   "id": "1caa86d0",
   "metadata": {},
   "outputs": [],
   "source": [
    "#error_abs\n",
    "error_abs=np.absolute(error)\n"
   ]
  },
  {
   "cell_type": "code",
   "execution_count": 122,
   "id": "de072ec2",
   "metadata": {},
   "outputs": [
    {
     "data": {
      "text/plain": [
       "10.596516126971922"
      ]
     },
     "execution_count": 122,
     "metadata": {},
     "output_type": "execute_result"
    }
   ],
   "source": [
    "new_mape=np.mean(error_abs/new_y_test)*100\n",
    "new_mape"
   ]
  },
  {
   "cell_type": "code",
   "execution_count": 123,
   "id": "96c34649",
   "metadata": {},
   "outputs": [
    {
     "data": {
      "text/plain": [
       "89.40348387302808"
      ]
     },
     "execution_count": 123,
     "metadata": {},
     "output_type": "execute_result"
    }
   ],
   "source": [
    "new_acc1=100-new_mape\n",
    "new_acc1"
   ]
  },
  {
   "cell_type": "code",
   "execution_count": 124,
   "id": "c833bd64",
   "metadata": {},
   "outputs": [
    {
     "data": {
      "text/plain": [
       "<matplotlib.collections.PathCollection at 0x1b9eab88610>"
      ]
     },
     "execution_count": 124,
     "metadata": {},
     "output_type": "execute_result"
    },
    {
     "data": {
      "image/png": "[encoded data removed]",
      "text/plain": [
       "<Figure size 432x288 with 1 Axes>"
      ]
     },
     "metadata": {
      "needs_background": "light"
     },
     "output_type": "display_data"
    }
   ],
   "source": [
    "plt.scatter(new_y_test,l1_p)"
   ]
  },
  {
   "cell_type": "code",
   "execution_count": 125,
   "id": "188a3d1c",
   "metadata": {},
   "outputs": [
    {
     "data": {
      "text/plain": [
       "<AxesSubplot:xlabel='Sale_Price', ylabel='Density'>"
      ]
     },
     "execution_count": 125,
     "metadata": {},
     "output_type": "execute_result"
    },
    {
     "data": {
      "image/png": "[encoded data removed]",
      "text/plain": [
       "<Figure size 432x288 with 1 Axes>"
      ]
     },
     "metadata": {
      "needs_background": "light"
     },
     "output_type": "display_data"
    }
   ],
   "source": [
    "sns.distplot(new_y_test-l1_p)"
   ]
  },
  {
   "cell_type": "markdown",
   "id": "9f0871ca",
   "metadata": {},
   "source": [
    "# Creating report of all the models using linear regression & Lasso"
   ]
  },
  {
   "cell_type": "code",
   "execution_count": 126,
   "id": "5691622e",
   "metadata": {},
   "outputs": [],
   "source": [
    "l1=[\"Linear\",\"lasso\"]"
   ]
  },
  {
   "cell_type": "code",
   "execution_count": 127,
   "id": "b311ef87",
   "metadata": {},
   "outputs": [],
   "source": [
    "l2=[R2,lo_r2]"
   ]
  },
  {
   "cell_type": "code",
   "execution_count": 128,
   "id": "876596b7",
   "metadata": {},
   "outputs": [],
   "source": [
    "l3=[adj_R2,lo_adj_R2]"
   ]
  },
  {
   "cell_type": "code",
   "execution_count": 129,
   "id": "90baabaf",
   "metadata": {},
   "outputs": [],
   "source": [
    "l4=[prop_mse,new_mse]"
   ]
  },
  {
   "cell_type": "markdown",
   "id": "e2efdd06",
   "metadata": {},
   "source": [
    "# Summarizing all the result"
   ]
  },
  {
   "cell_type": "code",
   "execution_count": 130,
   "id": "dd16d40f",
   "metadata": {},
   "outputs": [],
   "source": [
    "final_df=pd.DataFrame({\"model_name\":l1,\"R_square\":l2,\"Adj_R2\":l3,\"Mse\":l4})"
   ]
  },
  {
   "cell_type": "code",
   "execution_count": 131,
   "id": "dc63c11c",
   "metadata": {},
   "outputs": [
    {
     "data": {
      "text/html": [
       "<div>\n",
       "<style scoped>\n",
       "    .dataframe tbody tr th:only-of-type {\n",
       "        vertical-align: middle;\n",
       "    }\n",
       "\n",
       "    .dataframe tbody tr th {\n",
       "        vertical-align: top;\n",
       "    }\n",
       "\n",
       "    .dataframe thead th {\n",
       "        text-align: right;\n",
       "    }\n",
       "</style>\n",
       "<table border=\"1\" class=\"dataframe\">\n",
       "  <thead>\n",
       "    <tr style=\"text-align: right;\">\n",
       "      <th></th>\n",
       "      <th>model_name</th>\n",
       "      <th>R_square</th>\n",
       "      <th>Adj_R2</th>\n",
       "      <th>Mse</th>\n",
       "    </tr>\n",
       "  </thead>\n",
       "  <tbody>\n",
       "    <tr>\n",
       "      <th>0</th>\n",
       "      <td>Linear</td>\n",
       "      <td>0.890383</td>\n",
       "      <td>0.883700</td>\n",
       "      <td>5.323084e+08</td>\n",
       "    </tr>\n",
       "    <tr>\n",
       "      <th>1</th>\n",
       "      <td>lasso</td>\n",
       "      <td>0.891565</td>\n",
       "      <td>0.884955</td>\n",
       "      <td>1.363641e+09</td>\n",
       "    </tr>\n",
       "  </tbody>\n",
       "</table>\n",
       "</div>"
      ],
      "text/plain": [
       "  model_name  R_square    Adj_R2           Mse\n",
       "0     Linear  0.890383  0.883700  5.323084e+08\n",
       "1      lasso  0.891565  0.884955  1.363641e+09"
      ]
     },
     "execution_count": 131,
     "metadata": {},
     "output_type": "execute_result"
    }
   ],
   "source": [
    "final_df"
   ]
  },
  {
   "cell_type": "code",
   "execution_count": null,
   "id": "fb56165a",
   "metadata": {},
   "outputs": [],
   "source": []
  }
 ],
 "metadata": {
  "kernelspec": {
   "display_name": "Python 3 (ipykernel)",
   "language": "python",
   "name": "python3"
  },
  "language_info": {
   "codemirror_mode": {
    "name": "ipython",
    "version": 3
   },
   "file_extension": ".py",
   "mimetype": "text/x-python",
   "name": "python",
   "nbconvert_exporter": "python",
   "pygments_lexer": "ipython3",
   "version": "3.9.12"
  }
 },
 "nbformat": 4,
 "nbformat_minor": 5
}
